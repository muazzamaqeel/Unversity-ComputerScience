{
 "cells": [
  {
   "cell_type": "markdown",
   "metadata": {},
   "source": [
    "### Advance Multiple Character Based Password"
   ]
  },
  {
   "cell_type": "code",
   "execution_count": 2,
   "metadata": {},
   "outputs": [
    {
     "name": "stdout",
     "output_type": "stream",
     "text": [
      "['b', 'i', 'Q', '6', '9', '9']\n"
     ]
    }
   ],
   "source": [
    "import random\n",
    "\n",
    "alphabets = ['a', 'b', 'c', 'd', 'e', 'f', 'g', 'h', 'i', 'j', 'k', 'l', 'm', \n",
    "             'n', 'o', 'p', 'q', 'r', 's', 't', 'u', 'v', 'w', 'x', 'y', 'z', \n",
    "             'A', 'B', 'C', 'D', 'E', 'F', 'G', 'H', 'I', 'J', 'K', 'L', 'M', \n",
    "             'N', 'O', 'P', 'Q', 'R', 'S', 'T', 'U', 'V', 'W', 'X', 'Y', 'Z']\n",
    "digits = ['0', '1', '2', '3', '4', '5', '6', '7', '8', '9']\n",
    "\n",
    "# Temp list is used in order for us to take one of those two lists at random selection\n",
    "temp_list = [alphabets, digits]\n",
    "final_password = []\n",
    "\n",
    "Desired_alphabets = int(input(\"Please enter a number to indicate how many alphabets you want for your total password: \"))\n",
    "Desired_digits = int(input(\"Please enter a number to indicate how many digits you want for your total password: \"))\n",
    "Total_length = Desired_alphabets + Desired_digits\n",
    "\n",
    "# To have counters in order to stop with respect to the desired result\n",
    "counter_alphabets = 0\n",
    "counter_digits = 0\n",
    "\n",
    "for i in range(Total_length):\n",
    "\n",
    "    #The first part of this \"if\" condition determines which list to take (alphabets or digits)\n",
    "    #The second part of this \"if\" condition determines to keep the right amount of alphabets/digits from user's input\n",
    "    if counter_alphabets < Desired_alphabets and counter_digits < Desired_digits:\n",
    "        random_integer_temp_list = random.randint(0, 1)\n",
    "    elif counter_alphabets < Desired_alphabets:\n",
    "        random_integer_temp_list = 0 # Doing this because we still require to put an alphabets for the next if cascade\n",
    "    else:\n",
    "        random_integer_temp_list = 1 # Doing this because we still require to put a digit for the next if cascade\n",
    "\n",
    "\n",
    "    # For the data inside the list\n",
    "    random_integer_alphabets = random.randint(0, 51)  \n",
    "    random_integer_digits = random.randint(0, 9)  \n",
    "    # In order to have the right number of total alphabets/digits from user's input\n",
    "    # The reason second part of the if condition is there to make sure that we have the right number of desired alphabets/digits\n",
    "    if random_integer_temp_list == 0 and counter_alphabets < Desired_alphabets:\n",
    "        final_password.append(temp_list[0][random_integer_alphabets])\n",
    "        counter_alphabets = counter_alphabets + 1  \n",
    "    elif random_integer_temp_list == 1 and counter_digits < Desired_digits:\n",
    "        final_password.append(temp_list[1][random_integer_digits])\n",
    "        counter_digits = counter_digits + 1  \n",
    "\n",
    "print(final_password)\n"
   ]
  },
  {
   "cell_type": "code",
   "execution_count": 14,
   "metadata": {},
   "outputs": [
    {
     "name": "stdout",
     "output_type": "stream",
     "text": [
      "biQ699\n"
     ]
    }
   ],
   "source": [
    "data = str(final_password)\n",
    "data = data.replace(\",\", \"\").replace(\"[\", \"\").replace(\"]\", \"\").replace(\"'\", \"\").replace(\" \", \"\")\n",
    "print(data)\n"
   ]
  }
 ],
 "metadata": {
  "kernelspec": {
   "display_name": "Python 3",
   "language": "python",
   "name": "python3"
  },
  "language_info": {
   "codemirror_mode": {
    "name": "ipython",
    "version": 3
   },
   "file_extension": ".py",
   "mimetype": "text/x-python",
   "name": "python",
   "nbconvert_exporter": "python",
   "pygments_lexer": "ipython3",
   "version": "3.11.3"
  }
 },
 "nbformat": 4,
 "nbformat_minor": 2
}
