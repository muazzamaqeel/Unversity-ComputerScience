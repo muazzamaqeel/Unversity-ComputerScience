{
 "cells": [
  {
   "cell_type": "markdown",
   "metadata": {},
   "source": [
    "# 1. Aufgabe : Kurzfragen"
   ]
  },
  {
   "cell_type": "markdown",
   "metadata": {},
   "source": [
    "Welche drei Attribute hat jedes Objekt in Python, ohne die es ansonsten kein richtiges Objekt wäre?"
   ]
  },
  {
   "cell_type": "markdown",
   "metadata": {},
   "source": [
    "Wann und von wem wurde Python entwickelt?"
   ]
  },
  {
   "cell_type": "markdown",
   "metadata": {},
   "source": [
    "Was sind Schlüsselwortargumente und wie werden sie in Python-Funktionen verwendet? Geben Sie ein Beispiel."
   ]
  },
  {
   "cell_type": "markdown",
   "metadata": {},
   "source": [
    "Erklären Sie das Konzept der Vererbung in Python."
   ]
  },
  {
   "cell_type": "markdown",
   "metadata": {},
   "source": [
    "Erklären Sie das Diamond-Problem anhand einer kleinen Skizze."
   ]
  },
  {
   "cell_type": "markdown",
   "metadata": {},
   "source": [
    "Erklären Sie den Unterschied zwischen einer Klasse und einem Objekt (Instanz)."
   ]
  },
  {
   "cell_type": "markdown",
   "metadata": {},
   "source": [
    "Wodurch unterscheiden sich Methode einer Klasse und allgemeine Funktionen?"
   ]
  },
  {
   "cell_type": "markdown",
   "metadata": {},
   "source": [
    "Was ist ein anonymes Objekt (Instanz)?"
   ]
  },
  {
   "cell_type": "markdown",
   "metadata": {},
   "source": [
    "Wie können Sie eigene Ausnahmen in Python definieren und verwenden?"
   ]
  },
  {
   "cell_type": "markdown",
   "metadata": {},
   "source": [
    "Welche Rolle spielt die else-Klausel in einer Fehlerbehandlung?"
   ]
  },
  {
   "cell_type": "markdown",
   "metadata": {},
   "source": [
    "Erklären Sie die Bedeutung des with-Statements beim Arbeiten mit Dateien."
   ]
  },
  {
   "cell_type": "markdown",
   "metadata": {},
   "source": [
    "Welche Vorteile bieten Generatoren gegenüber herkömmlichen Listen?"
   ]
  },
  {
   "cell_type": "markdown",
   "metadata": {},
   "source": [
    "Was passiert, wenn die yield-Anweisung in einer Generatorfunktion aufgerufen wird?"
   ]
  },
  {
   "cell_type": "markdown",
   "metadata": {},
   "source": [
    "Was ist ein Thread und wie unterscheidet er sich von einem Prozess?"
   ]
  },
  {
   "cell_type": "markdown",
   "metadata": {},
   "source": [
    "Wie können Sie mehrere Prozesse zusammenführen und synchronisieren"
   ]
  },
  {
   "cell_type": "markdown",
   "metadata": {},
   "source": [
    "# 2. Aufgabe:"
   ]
  },
  {
   "cell_type": "markdown",
   "metadata": {},
   "source": [
    "**a)** Schreiben Sie eine Funktion `add_employee(...)`, die einen Mitarbeiter als Dictionary erstellt und zurückgibt. Der Mitarbeiter soll die Schlüssel `name`, `position`, `salary` (Gehalt) und `entry_date` (Eintrittsdatum) enthalten. \n",
    "\n",
    "Beispielaufruf:\n",
    "\n",
    "```python\n",
    "employee = add_employee(\"John Doe\", \"Developer\", 50000, \"2023-01-15\")\n",
    "```\n",
    "\n",
    "Geben Sie außerdem den Wert zum Schlüssel `entry_date` mit der `print()`-Funktion aus."
   ]
  },
  {
   "cell_type": "code",
   "execution_count": 18,
   "metadata": {},
   "outputs": [
    {
     "name": "stdout",
     "output_type": "stream",
     "text": [
      "2023-01-15\n"
     ]
    }
   ],
   "source": [
    "# 2a)\n",
    "def add_employee(name, position, salary, entry_date):\n",
    "    employee = {\n",
    "           'name': name,\n",
    "           'position': position,\n",
    "           'salary': salary,\n",
    "           'entry_date': entry_date\n",
    "       }\n",
    "    return employee\n",
    "\n",
    "employee = add_employee(\"John Doe\", \"Developer\", 50000, \"2023-01-15\")\n",
    "\n",
    "print(employee['entry_date'])"
   ]
  },
  {
   "cell_type": "markdown",
   "metadata": {},
   "source": [
    "**b)** Gegeben sei folgende Liste:\n",
    "\n",
    "```python\n",
    "employee_list = [\n",
    "       add_employee('John Doe', 'Developer', 50000, '2023-01-15'),\n",
    "       add_employee('Jane Smith', 'Manager', 60000, '2019-05-20'),\n",
    "       add_employee('Alice Johnson', 'Designer', 55000, '2021-07-30')\n",
    "   ]\n",
    "```\n",
    "\n",
    "Schreiben Sie eine Funktion `filter_employees(...)`, die eine Liste von Mitarbeitern nach ihrem Eintrittsdatum filtert, und eine Liste zurückgibt, die nur Mitarbeiter enthält, die **nach** dem 01.01.2024 eingetreten sind."
   ]
  },
  {
   "cell_type": "code",
   "execution_count": 19,
   "metadata": {},
   "outputs": [
    {
     "name": "stdout",
     "output_type": "stream",
     "text": [
      "[]\n"
     ]
    }
   ],
   "source": [
    "# gegeben\n",
    "employee_list = [\n",
    "       add_employee('John Doe', 'Developer', 50000, '2023-01-15'),\n",
    "       add_employee('Jane Smith', 'Manager', 60000, '2019-05-20'),\n",
    "       add_employee('Alice Johnson', 'Designer', 55000, '2021-07-30')\n",
    "   ]\n",
    "\n",
    "# 2b)\n",
    "def filter_employees(employee_list):\n",
    "    new_list = []\n",
    "    for employee in employee_list:\n",
    "        if employee['entry_date'] > '2024-01-01':\n",
    "            new_list.append(employee)\n",
    "\n",
    "    return new_list\n",
    "\n",
    "# nicht gefordert\n",
    "newies = filter_employees(employee_list)\n",
    "print(newies) # es gibt in der gegebenen Liste keinen \"Newie\""
   ]
  },
  {
   "cell_type": "markdown",
   "metadata": {},
   "source": [
    "**c)** Schreiben Sie eine Funktion `raise_salary(...)`, die eine Liste von Mitarbeitern und einen Prozentsatz akzeptiert, und eine neue Liste - damit ohne die bisherige zu verändern - von Mitarbeitern mit den erhöhten Gehältern zurückgibt.\n",
    "\n",
    "Beispielaufruf und -ausgabe mit der Liste von b):\n",
    "\n",
    "```python\n",
    "raised_salaries = raise_salary(employee_list, 10)\n",
    "print(raised_salaries)\n",
    "```\n",
    "\n",
    "```\n",
    ">>> [{'name': 'John Doe', 'position': 'Developer', 'salary': 55000.0, 'entry_date': '2023-01-15'}, \n",
    "{'name': 'Jane Smith', 'position': 'Manager', 'salary': 66000.0, 'entry_date': '2019-05-20'}, \n",
    "{'name': 'Alice Johnson', 'position': 'Designer', 'salary': 60500.0, 'entry_date': '2021-07-30'}]\n",
    "```"
   ]
  },
  {
   "cell_type": "code",
   "execution_count": 22,
   "metadata": {},
   "outputs": [
    {
     "name": "stdout",
     "output_type": "stream",
     "text": [
      "[{'name': 'John Doe', 'position': 'Developer', 'salary': 60500.000000000015, 'entry_date': '2023-01-15'}, {'name': 'Jane Smith', 'position': 'Manager', 'salary': 72600.0, 'entry_date': '2019-05-20'}, {'name': 'Alice Johnson', 'position': 'Designer', 'salary': 66550.00000000001, 'entry_date': '2021-07-30'}]\n",
      "[{'name': 'John Doe', 'position': 'Developer', 'salary': 55000.00000000001, 'entry_date': '2023-01-15'}, {'name': 'Jane Smith', 'position': 'Manager', 'salary': 66000.0, 'entry_date': '2019-05-20'}, {'name': 'Alice Johnson', 'position': 'Designer', 'salary': 60500.00000000001, 'entry_date': '2021-07-30'}]\n"
     ]
    }
   ],
   "source": [
    "# 3c)\n",
    "import copy\n",
    "\n",
    "def raise_salary(employee_list, percent):\n",
    "    new_list = copy.deepcopy(employee_list)\n",
    "    for employee in new_list:\n",
    "        employee['salary'] *= (1 + percent/100)\n",
    "\n",
    "    return new_list\n",
    "\n",
    "# Beispielaufruf\n",
    "raised_salaries = raise_salary(employee_list, 10)\n",
    "print(raised_salaries)\n",
    "print(employee_list)"
   ]
  },
  {
   "cell_type": "markdown",
   "metadata": {},
   "source": [
    "**d)** Erzeugen Sie nun ein übergeordnetes Dictionary, das als Schlüssel die Abteilungen und als Wert eine Liste mit den Mitarbeitern zu jeweiligen Abteilung enthält.\n",
    "\n",
    "Schreiben Sie anschließend eine Funktion `get_employees_of(...)`, die eine Abteilung und das Abteilungs-Dictionary akzeptiert, und eine Liste der Mitarbeiter zurückgibt, die in der übergebenenen Abteilung angestellt sind.\n",
    "\n",
    "Beispielaufruf und -ausgabe:\n",
    "\n",
    "```python\n",
    "developer = get_employees_of(\"Development\", department_dict)\n",
    "print(developer)\n",
    "```\n",
    "\n",
    "```\n",
    ">>> [{'name': 'John Doe', 'position': 'Developer', 'salary': 50000, 'entry_date': '2023-01-15'}]\n",
    "```\n"
   ]
  },
  {
   "cell_type": "code",
   "execution_count": 7,
   "metadata": {},
   "outputs": [
    {
     "data": {
      "text/plain": [
       "{'name': 'John Doe',\n",
       " 'position': 'Developer',\n",
       " 'salary': 55000.00000000001,\n",
       " 'entry_date': '2023-01-15'}"
      ]
     },
     "execution_count": 7,
     "metadata": {},
     "output_type": "execute_result"
    }
   ],
   "source": [
    "# 2d)\n",
    "departments = {'Development': employee_list[0],\n",
    "               'Design': employee_list[2],\n",
    "               'Management': employee_list[1]}\n",
    "\n",
    "def get_employees_of(department, depart_dict):\n",
    "    return depart_dict[department]\n",
    "\n",
    "get_employees_of(\"Development\", departments)"
   ]
  },
  {
   "cell_type": "markdown",
   "metadata": {},
   "source": [
    "# 3. Aufgabe: \n",
    "\n",
    "Die Abteilung für Datenschutz Ihrer Firma hat von Ihrer bisherigen Software mitbekommen und direkt Beschwerde eingelegt. Das Thema Gehalt sei ein sensibles Thema und daher dürfen diese Daten nicht in der gleichen Datenstruktur gespeichert werden. Aus diesem Grund sollen die Gehälter von nun an in einer separaten Liste `salary` gespeichert werden. \n",
    "\n",
    "Gehen Sie im Folgenden von dieser Beispielsliste mit Gehälterns aus:\n",
    "\n",
    "```python\n",
    "salary = [50000, 60000, 55000, 70000, 45000]\n",
    "```"
   ]
  },
  {
   "cell_type": "markdown",
   "metadata": {},
   "source": [
    "**a)** Schreiben Sie zunächst eine Generatorfunktion `report_salary(...)`, die die Gehaltsliste durchläuft und die Gehaltsdaten, bestehend aus dem Index und dem Wert, nacheinander zurückgibt.\n",
    "\n",
    "Beispielausgabe für einen Aufruf:\n",
    "\n",
    "`0: 50000 €`"
   ]
  },
  {
   "cell_type": "code",
   "execution_count": 27,
   "metadata": {},
   "outputs": [],
   "source": [
    "salary = [50000, 60000, 55000, 70000, 45000]\n",
    "\n",
    "# 3a)\n",
    "def report_salary(salary_list):\n",
    "    for salary in salary_list:\n",
    "        yield f\"{salary_list.index(salary)}: {salary}\"\n",
    "\n",
    "# nicht gefordert, aber zur Kontrolle\n",
    "gen = report_salary(salary)"
   ]
  },
  {
   "cell_type": "code",
   "execution_count": 28,
   "metadata": {},
   "outputs": [
    {
     "data": {
      "text/plain": [
       "'0: 50000'"
      ]
     },
     "execution_count": 28,
     "metadata": {},
     "output_type": "execute_result"
    }
   ],
   "source": [
    "next(gen)"
   ]
  },
  {
   "cell_type": "markdown",
   "metadata": {},
   "source": [
    "Den Kollegen aus der IT-Abteilung ist ebenfalls etwas aufgefallen, z.B. wurden die Gehaltseingaben gar nicht auf Richtigkeit überprüft genauso wenig wie die Eingaben zur Erstellung eines neuen Mitarbeiterprofils.\n",
    "\n",
    "**b)**  Schreiben Sie eine Funktion `validate(...)`, die überprüft, ob ein übergebenes Gehalt positiv ist. Bei einem ungültigen Gehalt soll sie eine sinnvolle Exception mit der Fehlermeldung `has to be positive` werfen, aber **nicht** aufgefangen werden. Bei gültigem Gehalt soll `salary valid` ausgegeben werden. In jedem Fall soll `validation ended` ausgegeben werden. \n",
    "\n",
    "Beispiel:\n",
    "\n",
    "```python\n",
    "validate(50000)\n",
    "validate(-1000)\n",
    "```\n",
    "Ausgabe:\n",
    "\n",
    "```python\n",
    "validation ended\n",
    "salary valid\n",
    "validation ended\n",
    "---------------------------------------------------------------------------\n",
    "Exception                                 Traceback (most recent call last)\n",
    "Cell In[2], line 2\n",
    "      1 validate(50000)\n",
    "----> 2 validate(-1000)\n",
    ".\n",
    ".\n",
    ".\n",
    ".\n",
    "Exception: has to be positive\n",
    "```\n"
   ]
  },
  {
   "cell_type": "code",
   "execution_count": 29,
   "metadata": {},
   "outputs": [
    {
     "name": "stdout",
     "output_type": "stream",
     "text": [
      "validation ended\n",
      "salary is valid\n",
      "validation ended\n"
     ]
    },
    {
     "ename": "ValueError",
     "evalue": "has to be positive",
     "output_type": "error",
     "traceback": [
      "\u001b[1;31m---------------------------------------------------------------------------\u001b[0m",
      "\u001b[1;31mValueError\u001b[0m                                Traceback (most recent call last)",
      "Cell \u001b[1;32mIn[29], line 13\u001b[0m\n\u001b[0;32m     11\u001b[0m \u001b[38;5;66;03m# nicht gefordert\u001b[39;00m\n\u001b[0;32m     12\u001b[0m validate(\u001b[38;5;241m50000\u001b[39m)\n\u001b[1;32m---> 13\u001b[0m validate(\u001b[38;5;241m-\u001b[39m\u001b[38;5;241m1000\u001b[39m)\n",
      "Cell \u001b[1;32mIn[29], line 5\u001b[0m, in \u001b[0;36mvalidate\u001b[1;34m(salary)\u001b[0m\n\u001b[0;32m      3\u001b[0m \u001b[38;5;28;01mtry\u001b[39;00m:\n\u001b[0;32m      4\u001b[0m     \u001b[38;5;28;01mif\u001b[39;00m salary \u001b[38;5;241m<\u001b[39m\u001b[38;5;241m=\u001b[39m \u001b[38;5;241m0\u001b[39m:\n\u001b[1;32m----> 5\u001b[0m         \u001b[38;5;28;01mraise\u001b[39;00m \u001b[38;5;167;01mValueError\u001b[39;00m(\u001b[38;5;124m\"\u001b[39m\u001b[38;5;124mhas to be positive\u001b[39m\u001b[38;5;124m\"\u001b[39m)\n\u001b[0;32m      6\u001b[0m \u001b[38;5;28;01mfinally\u001b[39;00m:\n\u001b[0;32m      7\u001b[0m     \u001b[38;5;28mprint\u001b[39m(\u001b[38;5;124m\"\u001b[39m\u001b[38;5;124mvalidation ended\u001b[39m\u001b[38;5;124m\"\u001b[39m)\n",
      "\u001b[1;31mValueError\u001b[0m: has to be positive"
     ]
    }
   ],
   "source": [
    "# 3b)\n",
    "def validate(salary):\n",
    "    try:\n",
    "        if salary <= 0:\n",
    "            raise ValueError(\"has to be positive\")\n",
    "    finally:\n",
    "        print(\"validation ended\")\n",
    "\n",
    "    print(\"salary is valid\")\n",
    "\n",
    "# nicht gefordert\n",
    "validate(50000)\n",
    "validate(-1000)"
   ]
  },
  {
   "cell_type": "markdown",
   "metadata": {},
   "source": [
    "**c)** Schreiben Sie eine verbesserte Funktion `add_employee_V2(...)`, die  einen Mitarbeiter als Dictionary erstellt und zurückgibt. Der Mitarbeiter soll nur noch die Schlüssel `name`, `position`, und `entry_date` (Eintrittsdatum) enthalten. \n",
    "\n",
    "Die Funktion soll Vor- und Nachbedingungen testen und bei Nichterfüllung eine Ausnahme erzeugen:\n",
    "\n",
    "- Vorbedingungen: Die Schlüssel `name` darf nicht leer sein.\n",
    "- Nachbedingung: Der erzeugte Mitarbeiter darf noch nicht existieren.\n",
    "\n",
    "Beispiel:\n",
    "\n",
    "```python\n",
    "employee_list_2 = []\n",
    "employee_list_2.append(add_employee_V2('John Doe', 'Developer', '2023-01-15', employee_list_2))\n",
    "employee_list_2.append(add_employee_V2('Jane Smith', 'Manager',  '2019-05-20', employee_list_2))\n",
    "employee_list_2.append(add_employee_V2('Alice Johnson', 'Designer', '2021-07-30', employee_list_2))\n",
    "\n",
    "print(employee_list_2)\n",
    "\n",
    "employee_list_2.append(add_employee_V2('John Doe', 'Developer', '2023-01-15', employee_list_2))\n",
    "```\n",
    "Ausgabe:\n",
    "```python\n",
    "[{'name': 'John Doe', 'position': 'Developer', 'eintrittsdatum': '2023-01-15'}, \n",
    "{'name': 'Jane Smith', 'position': 'Manager', 'eintrittsdatum': '2019-05-20'}, \n",
    "{'name': 'Alice Johnson', 'position': 'Designer', 'eintrittsdatum': '2021-07-30'}]\n",
    "\n",
    "---------------------------------------------------------------------------\n",
    "AssertionError                            Traceback (most recent call last)\n",
    "Cell In[85], line 18\n",
    "     14 employee_list_2.append(add_employee_V2('Alice Johnson', 'Designer', '2021-07-30', employee_list_2))\n",
    "     16 print(employee_list_2)\n",
    "---> 18 employee_list_2.append(add_employee_V2('John Doe', 'Developer', '2023-01-15', employee_list_2))\n",
    "...\n",
    "```"
   ]
  },
  {
   "cell_type": "code",
   "execution_count": 33,
   "metadata": {},
   "outputs": [
    {
     "name": "stdout",
     "output_type": "stream",
     "text": [
      "[{'name': 'John Doe', 'position': 'Developer', 'entry_date': '2023-01-15'}, {'name': 'Jane Smith', 'position': 'Manager', 'entry_date': '2019-05-20'}, {'name': 'Alice Johnson', 'position': 'Designer', 'entry_date': '2021-07-30'}]\n"
     ]
    },
    {
     "ename": "AssertionError",
     "evalue": "employee already exists",
     "output_type": "error",
     "traceback": [
      "\u001b[1;31m---------------------------------------------------------------------------\u001b[0m",
      "\u001b[1;31mAssertionError\u001b[0m                            Traceback (most recent call last)",
      "Cell \u001b[1;32mIn[33], line 18\u001b[0m\n\u001b[0;32m     14\u001b[0m employee_list_2\u001b[38;5;241m.\u001b[39mappend(add_employee_V2(\u001b[38;5;124m'\u001b[39m\u001b[38;5;124mAlice Johnson\u001b[39m\u001b[38;5;124m'\u001b[39m, \u001b[38;5;124m'\u001b[39m\u001b[38;5;124mDesigner\u001b[39m\u001b[38;5;124m'\u001b[39m, \u001b[38;5;124m'\u001b[39m\u001b[38;5;124m2021-07-30\u001b[39m\u001b[38;5;124m'\u001b[39m, employee_list_2))\n\u001b[0;32m     16\u001b[0m \u001b[38;5;28mprint\u001b[39m(employee_list_2)\n\u001b[1;32m---> 18\u001b[0m employee_list_2\u001b[38;5;241m.\u001b[39mappend(add_employee_V2(\u001b[38;5;124m'\u001b[39m\u001b[38;5;124mJohn Doe\u001b[39m\u001b[38;5;124m'\u001b[39m, \u001b[38;5;124m'\u001b[39m\u001b[38;5;124mDeveloper\u001b[39m\u001b[38;5;124m'\u001b[39m, \u001b[38;5;124m'\u001b[39m\u001b[38;5;124m2023-01-15\u001b[39m\u001b[38;5;124m'\u001b[39m, employee_list_2))\n",
      "Cell \u001b[1;32mIn[33], line 7\u001b[0m, in \u001b[0;36madd_employee_V2\u001b[1;34m(name, position, entry_date, employee_list)\u001b[0m\n\u001b[0;32m      3\u001b[0m \u001b[38;5;28;01massert\u001b[39;00m name, \u001b[38;5;124m\"\u001b[39m\u001b[38;5;124mname is empty\u001b[39m\u001b[38;5;124m\"\u001b[39m\n\u001b[0;32m      4\u001b[0m employee \u001b[38;5;241m=\u001b[39m {\u001b[38;5;124m'\u001b[39m\u001b[38;5;124mname\u001b[39m\u001b[38;5;124m'\u001b[39m : name,\n\u001b[0;32m      5\u001b[0m             \u001b[38;5;124m'\u001b[39m\u001b[38;5;124mposition\u001b[39m\u001b[38;5;124m'\u001b[39m : position,\n\u001b[0;32m      6\u001b[0m             \u001b[38;5;124m'\u001b[39m\u001b[38;5;124mentry_date\u001b[39m\u001b[38;5;124m'\u001b[39m : entry_date}\n\u001b[1;32m----> 7\u001b[0m \u001b[38;5;28;01massert\u001b[39;00m employee \u001b[38;5;129;01mnot\u001b[39;00m \u001b[38;5;129;01min\u001b[39;00m employee_list, \u001b[38;5;124m\"\u001b[39m\u001b[38;5;124memployee already exists\u001b[39m\u001b[38;5;124m\"\u001b[39m\n\u001b[0;32m      8\u001b[0m \u001b[38;5;28;01mreturn\u001b[39;00m employee\n",
      "\u001b[1;31mAssertionError\u001b[0m: employee already exists"
     ]
    }
   ],
   "source": [
    "# 3c)\n",
    "def add_employee_V2(name, position, entry_date, employee_list):\n",
    "    assert name, \"name is empty\"\n",
    "    employee = {'name' : name,\n",
    "                'position' : position,\n",
    "                'entry_date' : entry_date}\n",
    "    assert employee not in employee_list, \"employee already exists\"\n",
    "    return employee\n",
    "\n",
    "\n",
    "# Beispiel aus der Aufgabenstellung\n",
    "employee_list_2 = []\n",
    "employee_list_2.append(add_employee_V2('John Doe', 'Developer', '2023-01-15', employee_list_2))\n",
    "employee_list_2.append(add_employee_V2('Jane Smith', 'Manager',  '2019-05-20', employee_list_2))\n",
    "employee_list_2.append(add_employee_V2('Alice Johnson', 'Designer', '2021-07-30', employee_list_2))\n",
    "\n",
    "print(employee_list_2)\n",
    "\n",
    "employee_list_2.append(add_employee_V2('John Doe', 'Developer', '2023-01-15', employee_list_2))"
   ]
  },
  {
   "cell_type": "markdown",
   "metadata": {},
   "source": [
    "# 4. Aufgabe:\n",
    "\n",
    "Sie haben einen neuen Kollegen namens Gregoor aus den Niederlanden. Dieser sagt die ganze Zeit:\n",
    "\n",
    "> \"alles is een object\" (deutsch: \"Alles ist ein Objekt\")\n",
    "\n",
    "und zeigt ständig mit seinem Finger auf Sie und Ihre Software. So langsam sind Sie echt genervt ..."
   ]
  },
  {
   "attachments": {
    "mitarbeiter.png": {
     "image/png": "[encoded data removed]"
    }
   },
   "cell_type": "markdown",
   "metadata": {},
   "source": [
    "**a)** Damit Greegor endlich aufhört, setzen Sie sich nochmals an Ihre Software und implementieren nun eine Klasse `Employee` mit den bisherigen Attributen `name`, `position`, `salary` und `entry_date` und den Methoden `get_name()` und `is_new()`. Als \"neu\" gilt ein Mitarbeiter dessen Eintrittsdatum im aktuellen Jahr liegt. Das Attribut `salary` soll hierbei streng privat sein, d.h. ein Zugriff über z.B. `employee.salary` ist nicht möglich (damit die Datenschutz Abteilung nicht meckert).\n",
    "\n",
    "![mitarbeiter.png](attachment:mitarbeiter.png)\n",
    "\n",
    "Beispielaufruf:\n",
    "\n",
    "```python\n",
    "employee = Employee('John Doe', 'Entwickler', 50000, '2023-01-15')\n",
    "print(employee.get_name())\n",
    "print(employee.is_new())\n",
    "```\n",
    "\n",
    "Ausgabe:\n",
    "\n",
    "```python\n",
    "John Doe\n",
    "False\n",
    "```"
   ]
  },
  {
   "cell_type": "code",
   "execution_count": 34,
   "metadata": {},
   "outputs": [
    {
     "name": "stdout",
     "output_type": "stream",
     "text": [
      "John Doe\n",
      "False\n"
     ]
    }
   ],
   "source": [
    "# 4a)\n",
    "class Employee:\n",
    "    def __init__(self, name, position, salary, entry_date):\n",
    "        self.name = name\n",
    "        self.position = position\n",
    "        self.__salary = salary\n",
    "        self.entry_date = entry_date\n",
    "\n",
    "    def get_name(self):\n",
    "        return self.name\n",
    "    \n",
    "    def is_new(self):\n",
    "        return self.entry_date > \"2024-01-01\"\n",
    "\n",
    "#nicht gefordert, aus Aufgabenstellung    \n",
    "employee = Employee('John Doe', 'Entwickler', 50000, '2023-01-15')\n",
    "print(employee.get_name())\n",
    "print(employee.is_new())\n",
    "    \n",
    "    "
   ]
  },
  {
   "cell_type": "markdown",
   "metadata": {},
   "source": [
    "**b)** Geben Sie eine Möglichkeit an, wie man nach der Implementierung von *a)* trotzdem von außen auf das Gehaltsattribut zugreifen könnte."
   ]
  },
  {
   "cell_type": "code",
   "execution_count": 38,
   "metadata": {},
   "outputs": [
    {
     "name": "stdout",
     "output_type": "stream",
     "text": [
      "100000\n"
     ]
    }
   ],
   "source": [
    "# 4b)\n",
    "#print(employee.salary)                 # geht nicht\n",
    "#print(employee.__salary)               # geht nicht\n",
    "employee._Employee__salary = 100000     # fatal!\n",
    "print(employee._Employee__salary)"
   ]
  },
  {
   "cell_type": "markdown",
   "metadata": {},
   "source": [
    "**c)** Fügen Sie Ihrer Klasse `Employee` daher ein Property-Attribut `salary` und alles was dafür notwendig ist hinzu, damit das eigentliche Attribut ausschließlich gelesen, aber nicht beschrieben werden kann. \n",
    "\n",
    "Beispielaufruf: \n",
    "\n",
    "```python\n",
    "print(employee.salary)      # read\n",
    "employee.salary = 100000    # write\n",
    "```\n",
    "\n",
    "Ausgabe:\n",
    "\n",
    "```python\n",
    "50000\n",
    "---------------------------------------------------------------------------\n",
    "AttributeError                            Traceback (most recent call last)\n",
    "Cell In[111], line 31\n",
    "     30 print(employee.salary)\n",
    "---> 31 employee.salary = 100000\n",
    "\n",
    "AttributeError: property 'salary' of 'Employee' object has no setter\n",
    "```"
   ]
  },
  {
   "cell_type": "code",
   "execution_count": 40,
   "metadata": {},
   "outputs": [
    {
     "name": "stdout",
     "output_type": "stream",
     "text": [
      "50000\n"
     ]
    },
    {
     "ename": "AttributeError",
     "evalue": "property 'salary' of 'Employee' object has no setter",
     "output_type": "error",
     "traceback": [
      "\u001b[1;31m---------------------------------------------------------------------------\u001b[0m",
      "\u001b[1;31mAttributeError\u001b[0m                            Traceback (most recent call last)",
      "Cell \u001b[1;32mIn[40], line 23\u001b[0m\n\u001b[0;32m     21\u001b[0m employee \u001b[38;5;241m=\u001b[39m Employee(\u001b[38;5;124m'\u001b[39m\u001b[38;5;124mJohn Doe\u001b[39m\u001b[38;5;124m'\u001b[39m, \u001b[38;5;124m'\u001b[39m\u001b[38;5;124mEntwickler\u001b[39m\u001b[38;5;124m'\u001b[39m, \u001b[38;5;241m50000\u001b[39m, \u001b[38;5;124m'\u001b[39m\u001b[38;5;124m2023-01-15\u001b[39m\u001b[38;5;124m'\u001b[39m)\n\u001b[0;32m     22\u001b[0m \u001b[38;5;28mprint\u001b[39m(employee\u001b[38;5;241m.\u001b[39msalary)\n\u001b[1;32m---> 23\u001b[0m employee\u001b[38;5;241m.\u001b[39msalary \u001b[38;5;241m=\u001b[39m \u001b[38;5;241m100000\u001b[39m\n",
      "\u001b[1;31mAttributeError\u001b[0m: property 'salary' of 'Employee' object has no setter"
     ]
    }
   ],
   "source": [
    "# 4c)\n",
    "class Employee:\n",
    "    def __init__(self, name, position, salary, entry_date):\n",
    "        self.name = name\n",
    "        self.position = position\n",
    "        self.__salary = salary\n",
    "        self.entry_date = entry_date\n",
    "\n",
    "    def get_name(self):\n",
    "        return self.name\n",
    "    \n",
    "    def is_new(self):\n",
    "        return self.entry_date > \"2024-01-01\"\n",
    "    \n",
    "    def get_salary(self):\n",
    "        return self.__salary\n",
    "    \n",
    "    salary = property(fget=get_salary)\n",
    "\n",
    "# aus der Aufgabenstellung\n",
    "employee = Employee('John Doe', 'Entwickler', 50000, '2023-01-15')\n",
    "print(employee.salary)\n",
    "employee.salary = 100000"
   ]
  },
  {
   "attachments": {
    "manager.png": {
     "image/png": "[encoded data removed]"
    }
   },
   "cell_type": "markdown",
   "metadata": {},
   "source": [
    "**d)** Sie sind durch Ihre hervorragende Arbeit zum Manager aufgestiegen, Glückwunsch! Um das auch in Ihrer Software kenntlich zu machen, erstellen Sie im Folgenden eine neue Klasse `Manager`, die allerdings von der Klasse `Employee` erbt. Die Klasse `Manager` hat das neue Attribut `team` und eine neue Methode `get_team()`.\n",
    "\n",
    "![manager.png](attachment:manager.png)\n",
    "\n",
    "Beispielaufruf:\n",
    "\n",
    "```python\n",
    "manager = Manager('Jane Smith', 'Manager', 120000, '2019-05-20', ['John Doe', 'Alice Johnson'])\n",
    "print(manager.get_name())\n",
    "print(manager.get_team())\n",
    "```\n",
    "\n",
    "Ausgabe:\n",
    "\n",
    "```python\n",
    "Jane Smith\n",
    "['John Doe', 'Alice Johnson']\n",
    "```"
   ]
  },
  {
   "cell_type": "code",
   "execution_count": 41,
   "metadata": {},
   "outputs": [
    {
     "name": "stdout",
     "output_type": "stream",
     "text": [
      "Jane Smith\n",
      "['John Doe', 'Alice Johnson']\n"
     ]
    }
   ],
   "source": [
    "# 4d)\n",
    "class Manager(Employee):\n",
    "    def __init__(self, name, position, salary, entry_date, team):\n",
    "        super().__init__(name, position, salary, entry_date)\n",
    "        self.team = team\n",
    "\n",
    "    def get_team(self):\n",
    "        return self.team\n",
    "\n",
    "manager = Manager('Jane Smith', 'Manager', 120000, '2019-05-20', ['John Doe', 'Alice Johnson'])\n",
    "print(manager.get_name())\n",
    "print(manager.get_team())"
   ]
  },
  {
   "cell_type": "markdown",
   "metadata": {},
   "source": [
    "# 5. Aufgabe:\n",
    "\n",
    "Als Manager haben Sie nun auch vermehrt mit der Personalabteilung Ihrer Firma zu tun. Es geht u.A. um das (un)beliebte Thema \"Gehalt\". Leider hat die Personalabteilung noch kein Update für die neue objektorientierte Klassenstruktur der Software erhalten. Daher werden die Mitarbeiter als Tupel, und die Gehälter in separaten Listen verwaltet (wie in Aufgabe 3)."
   ]
  },
  {
   "cell_type": "markdown",
   "metadata": {},
   "source": [
    "**a)** Zunächst besteht Ihre Tätigkeit darin, große Mengen an Mitarbeiterdaten in das veraltete System einzubinden. Sie kommen daher auf die Idee, das Ganze zu parallelisieren. Schreiben Sie einen funktionierenden Code, um damit parallel Mitarbeiter aus einzelnen Listen einzulesen und zu einer gemeinsamen Liste hinzuzufügen. \n",
    "\n",
    "Für diese Aufgabe denken Sie sich zwei Listen mit den Mitarbeitern als Tupel, `data1` und `data2`, die über eigene Threads zu einer Gesamtliste hinzugefügt werden. Da es in Wirklichkeit viel mehr Listen sind, nutzen Sie bitte das Modul `threading` und kein einfaches `all_data.append(data1)` und `all_data.append(data2)`.\n",
    "\n",
    "Das Problem der Synchronisation soll an dieser Stelle vernachlässigt werden.\n",
    "\n",
    "Ihre Beispiellisten könnten wie folgt aussehen:\n",
    "\n",
    "```python\n",
    "data1 = [('John Doe', 'Entwickler', '2023-01-15'), ('Alice Johnson', 'Designer', '2021-07-30')]\n",
    "data2 = [('Jane Smith', 'Manager', '2019-05-20')]\n",
    "```"
   ]
  },
  {
   "cell_type": "code",
   "execution_count": 10,
   "metadata": {},
   "outputs": [
    {
     "name": "stdout",
     "output_type": "stream",
     "text": [
      "('John Doe', 'Entwickler', '2023-01-15')\n",
      "('Alice Johnson', 'Designer', '2021-07-30')\n",
      "('Jane Smith', 'Manager', '2019-05-20')\n",
      "[('John Doe', 'Entwickler', '2023-01-15'), ('Alice Johnson', 'Designer', '2021-07-30'), ('Jane Smith', 'Manager', '2019-05-20')]\n"
     ]
    }
   ],
   "source": [
    "# 5a)\n",
    "# 1. Möglichkeit\n",
    "import threading\n",
    "\n",
    "all_data = []\n",
    "\n",
    "def add_employee_process(employee_list):\n",
    "       for daten in employee_list:\n",
    "           print(daten)\n",
    "           all_data.append(daten)\n",
    "\n",
    "daten1 = [('John Doe', 'Entwickler', '2023-01-15'), ('Alice Johnson', 'Designer', '2021-07-30')]\n",
    "daten2 = [('Jane Smith', 'Manager', '2019-05-20')]\n",
    "\n",
    "t1 = threading.Thread(target=add_employee_process, args=(daten1,))\n",
    "t2 = threading.Thread(target=add_employee_process, args=(daten2,))\n",
    "\n",
    "t1.start()\n",
    "t2.start()\n",
    "\n",
    "t1.join()\n",
    "t2.join()\n",
    "\n",
    "print(all_data)"
   ]
  },
  {
   "cell_type": "code",
   "execution_count": 43,
   "metadata": {},
   "outputs": [
    {
     "name": "stdout",
     "output_type": "stream",
     "text": [
      "('John Doe', 'Entwickler', '2023-01-15')\n",
      "('Alice Johnson', 'Designer', '2021-07-30')\n",
      "('Jane Smith', 'Manager', '2019-05-20')\n",
      "[('John Doe', 'Entwickler', '2023-01-15'), ('Alice Johnson', 'Designer', '2021-07-30'), ('Jane Smith', 'Manager', '2019-05-20')]\n"
     ]
    }
   ],
   "source": [
    "# 5a)\n",
    "# 2. Möglichkeit\n",
    "import threading\n",
    "\n",
    "def add_employee_process(overall_list , employee_list):\n",
    "       for daten in employee_list:\n",
    "           print(daten)\n",
    "           overall_list.append(daten)\n",
    "\n",
    "\n",
    "all_data = []\n",
    "\n",
    "daten1 = [('John Doe', 'Entwickler', '2023-01-15'), ('Alice Johnson', 'Designer', '2021-07-30')]\n",
    "daten2 = [('Jane Smith', 'Manager', '2019-05-20')]\n",
    "\n",
    "t1 = threading.Thread(target=add_employee_process, args=(all_data, daten1))\n",
    "t2 = threading.Thread(target=add_employee_process, args=(all_data, daten2))\n",
    "\n",
    "t1.start()\n",
    "t2.start()\n",
    "\n",
    "t1.join()\n",
    "t2.join()\n",
    "\n",
    "print(all_data)"
   ]
  },
  {
   "cell_type": "markdown",
   "metadata": {},
   "source": [
    "**b)** Für die Gehaltsanalyse haben Sie die Gehaltslisten in Numpy-Arrays umgewandelt:\n",
    "\n",
    "```python\n",
    "import numpy as np\n",
    "\n",
    "salaries = np.array([50000, 60000, 55000, 70000, 45000])\n",
    "mean_salary = np.mean(salaries)\n",
    "std_deviation = np.std(salaries)\n",
    "sum_salary = np.sum(salaries)\n",
    "```\n",
    "\n",
    "Schreiben Sie eine Code, der nun die Gehälter filtert, die mehr als 50000 sind, und anschließend auf der Konsole ausgibt.\n",
    "\n",
    "Ausgabe zum Beispiel:\n",
    "\n",
    "```python\n",
    "[60000 55000 70000]\n",
    "```"
   ]
  },
  {
   "cell_type": "code",
   "execution_count": 3,
   "metadata": {},
   "outputs": [
    {
     "name": "stdout",
     "output_type": "stream",
     "text": [
      "[60000 55000 70000]\n"
     ]
    }
   ],
   "source": [
    "# 5b)\n",
    "# gegeben\n",
    "import numpy as np\n",
    "\n",
    "salaries = np.array([50000, 60000, 55000, 70000, 45000])\n",
    "mean_salary = np.mean(salaries)\n",
    "std_deviation = np.std(salaries)\n",
    "sum_salary = np.sum(salaries)\n",
    "\n",
    "# 5b)\n",
    "filtered = salaries[salaries > 50000]\n",
    "\n",
    "# nur zur Kontrolle\n",
    "print(filtered)"
   ]
  },
  {
   "cell_type": "code",
   "execution_count": 6,
   "metadata": {},
   "outputs": [
    {
     "name": "stdout",
     "output_type": "stream",
     "text": [
      "[60000 55000 70000]\n"
     ]
    }
   ],
   "source": [
    "# 5b) Alternativ mit filter\n",
    "# gegeben\n",
    "import numpy as np\n",
    "\n",
    "salaries = np.array([50000, 60000, 55000, 70000, 45000])\n",
    "mean_salary = np.mean(salaries)\n",
    "std_deviation = np.std(salaries)\n",
    "sum_salary = np.sum(salaries)\n",
    "\n",
    "# 5b)\n",
    "# filtered ist dann eine Liste\n",
    "filtered_list = list(filter(lambda s: s > 50000, salaries))\n",
    "filtered = np.array(filtered_list)\n",
    "\n",
    "# nur zur Kontrolle\n",
    "print(filtered)"
   ]
  },
  {
   "attachments": {
    "salaries.png": {
     "image/png": "[encoded data removed]"
    }
   },
   "cell_type": "markdown",
   "metadata": {},
   "source": [
    "**c)** Zum Schluss müssen Sie Ihre Ergebnisse dem Vorstand vorstellen, der jedoch keine Ahnung von Programmierung und Numpy-Arrays hat. Daher erstellen Sie eine `tkinter`-Oberfläche, die es ermöglicht, ein Gehalt einzugeben und anzuzeigen, ob es über oder unter dem Durchschnitt liegt. Die GUI könnte wie folgt aussehen:\n",
    "\n",
    "![salaries.png](attachment:salaries.png)"
   ]
  },
  {
   "cell_type": "code",
   "execution_count": 51,
   "metadata": {},
   "outputs": [],
   "source": [
    "# 5c)\n",
    "# 1. Möglichkeit via Klassendefinition\n",
    "from tkinter import *\n",
    "\n",
    "class GUI:\n",
    "    def __init__(self, mean):\n",
    "        self.root = Tk()\n",
    "        self.output = StringVar()\n",
    "        self.entry = Entry(master = self.root)\n",
    "        self.entry.pack()\n",
    "\n",
    "        self.button = Button(master = self.root, \n",
    "                             command = self.check,\n",
    "                             text = \"Check\")\n",
    "        self.button.pack()\n",
    "\n",
    "        self.label = Label(master =self.root,\n",
    "                           textvariable= self.output)\n",
    "        self.label.pack()\n",
    "        self.mean = mean\n",
    "        self.root.mainloop()\n",
    "\n",
    "    def check(self):\n",
    "        if int(self.entry.get()) > self.mean:\n",
    "            self.output.set(\"salary is above average\")\n",
    "        else:\n",
    "            self.output.set(\"salary is below average\")\n",
    "\n",
    "gui = GUI(mean_salary)"
   ]
  },
  {
   "cell_type": "code",
   "execution_count": 52,
   "metadata": {},
   "outputs": [],
   "source": [
    "# 2. Möglichkeit\n",
    "import tkinter as tk\n",
    "\n",
    "def pruefe_gehalt():\n",
    "    gehalt = int(entry.get())\n",
    "    if gehalt > mean_salary:\n",
    "        result_label.config(text=\"salary is above average\")\n",
    "    else:\n",
    "        result_label.config(text=\"salary is below average\")\n",
    "\n",
    "root = tk.Tk()\n",
    "\n",
    "entry = tk.Entry(root)\n",
    "entry.pack()\n",
    "\n",
    "check_button = tk.Button(root, text=\"Check\", command=pruefe_gehalt)\n",
    "check_button.pack()\n",
    "\n",
    "result_label = tk.Label(root, text=\"\")\n",
    "result_label.pack()\n",
    "\n",
    "root.mainloop()"
   ]
  }
 ],
 "metadata": {
  "kernelspec": {
   "display_name": "Python 3 (ipykernel)",
   "language": "python",
   "name": "python3"
  },
  "language_info": {
   "codemirror_mode": {
    "name": "ipython",
    "version": 3
   },
   "file_extension": ".py",
   "mimetype": "text/x-python",
   "name": "python",
   "nbconvert_exporter": "python",
   "pygments_lexer": "ipython3",
   "version": "3.11.7"
  }
 },
 "nbformat": 4,
 "nbformat_minor": 2
}
