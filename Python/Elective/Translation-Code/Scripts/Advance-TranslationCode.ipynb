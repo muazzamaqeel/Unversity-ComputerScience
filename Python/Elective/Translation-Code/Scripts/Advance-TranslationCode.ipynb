{
 "cells": [
  {
   "cell_type": "code",
   "execution_count": 5,
   "metadata": {},
   "outputs": [
    {
     "name": "stdout",
     "output_type": "stream",
     "text": [
      "Translated C:\\programming\\Unversity-ComputerScience\\Python\\Elective\\Translation-Code\\Exam\\Copy8\\Probeklausur_Loesung.ipynb to C:\\programming\\Unversity-ComputerScience\\Python\\Elective\\Translation-Code\\Exam\\Copy8\\English_Version_Probeklausur_Loesung.ipynb\n"
     ]
    }
   ],
   "source": [
    "import os\n",
    "import nbformat\n",
    "from deep_translator import GoogleTranslator\n",
    "from nbformat import NotebookNode\n",
    "\n",
    "def translate_cell(cell: NotebookNode) -> None:\n",
    "    \"\"\"\n",
    "    Translates the content of a Jupyter notebook cell from German to English.\n",
    "    It modifies the cell content in-place.\n",
    "    \"\"\"\n",
    "    if cell.cell_type == 'markdown' or (cell.cell_type == 'code' and '# ' in cell.source):\n",
    "        # Translate cell content using Deep Translator\n",
    "        # Only translating comments in code cells\n",
    "        if cell.cell_type == 'code':\n",
    "            lines = cell.source.split('\\n')\n",
    "            translated_lines = []\n",
    "            for line in lines:\n",
    "                if line.strip().startswith('#'):\n",
    "                    try:\n",
    "                        translated_line = GoogleTranslator(source='auto', target='en').translate(line)\n",
    "                        if translated_line is None:\n",
    "                            translated_line = line  # fallback to original line if translation fails\n",
    "                        translated_lines.append(translated_line)\n",
    "                    except Exception as e:\n",
    "                        print(f\"Error translating line: {line}. Error: {e}\")\n",
    "                        translated_lines.append(line)  # fallback to original line in case of error\n",
    "                else:\n",
    "                    translated_lines.append(line)\n",
    "            cell.source = '\\n'.join(translated_lines)\n",
    "        else:\n",
    "            try:\n",
    "                translated_text = GoogleTranslator(source='auto', target='en').translate(cell.source)\n",
    "                if translated_text is not None:\n",
    "                    cell.source = translated_text\n",
    "            except Exception as e:\n",
    "                print(f\"Error translating cell: {cell.source}. Error: {e}\")\n",
    "\n",
    "def translate_notebook(input_path: str, output_path: str) -> None:\n",
    "    \"\"\"\n",
    "    Translates the entire content of a Jupyter notebook from German to English.\n",
    "    It saves the translated notebook to a new file.\n",
    "    \n",
    "    :param input_path: Path to the input notebook.\n",
    "    :param output_path: Path to save the translated notebook.\n",
    "    \"\"\"\n",
    "    # Load the notebook\n",
    "    with open(input_path, 'r', encoding='utf-8') as f:\n",
    "        nb = nbformat.read(f, as_version=4)\n",
    "\n",
    "    # Translate each cell\n",
    "    for cell in nb.cells:\n",
    "        translate_cell(cell)\n",
    "\n",
    "    # Save the translated notebook\n",
    "    with open(output_path, 'w', encoding='utf-8') as f:\n",
    "        nbformat.write(nb, f)\n",
    "\n",
    "def translate_notebooks_in_directory(input_dir: str) -> None:\n",
    "    \"\"\"\n",
    "    Translates all Jupyter notebooks in a given directory and its subdirectories from German to English.\n",
    "    \n",
    "    :param input_dir: Directory containing the original notebooks.\n",
    "    \"\"\"\n",
    "    # Iterate over each file in the directory tree\n",
    "    for dirpath, _, filenames in os.walk(input_dir):\n",
    "        for filename in filenames:\n",
    "            if filename.endswith('.ipynb'):\n",
    "                # Construct the full file paths\n",
    "                input_path = os.path.join(dirpath, filename)\n",
    "                output_filename = 'English_Version_' + filename\n",
    "                output_path = os.path.join(dirpath, output_filename)\n",
    "                \n",
    "                # Translate the notebook\n",
    "                translate_notebook(input_path, output_path)\n",
    "                print(f\"Translated {input_path} to {output_path}\")\n",
    "\n",
    "# Set the input directory\n",
    "input_directory = 'C:\\\\programming\\\\Unversity-ComputerScience\\\\Python\\\\Elective\\\\Translation-Code\\\\Exam\\\\Copy8'\n",
    "\n",
    "# Translate all notebooks in the directory and its subdirectories\n",
    "translate_notebooks_in_directory(input_directory)\n"
   ]
  },
  {
   "cell_type": "code",
   "execution_count": null,
   "metadata": {},
   "outputs": [],
   "source": []
  }
 ],
 "metadata": {
  "kernelspec": {
   "display_name": "Python 3",
   "language": "python",
   "name": "python3"
  },
  "language_info": {
   "codemirror_mode": {
    "name": "ipython",
    "version": 3
   },
   "file_extension": ".py",
   "mimetype": "text/x-python",
   "name": "python",
   "nbconvert_exporter": "python",
   "pygments_lexer": "ipython3",
   "version": "3.11.3"
  }
 },
 "nbformat": 4,
 "nbformat_minor": 2
}
