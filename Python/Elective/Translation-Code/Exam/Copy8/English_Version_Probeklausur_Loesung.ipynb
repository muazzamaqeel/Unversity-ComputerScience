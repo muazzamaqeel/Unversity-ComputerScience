{
 "cells": [
  {
   "cell_type": "markdown",
   "metadata": {},
   "source": [
    "# 1. Task : Short questions"
   ]
  },
  {
   "cell_type": "markdown",
   "metadata": {},
   "source": [
    "What three attributes does every object in Python have without which it would not be a real object?"
   ]
  },
  {
   "cell_type": "markdown",
   "metadata": {},
   "source": [
    "When and by whom was Python developed?"
   ]
  },
  {
   "cell_type": "markdown",
   "metadata": {},
   "source": [
    "What are keyword arguments and how are they used in Python functions? Give an example."
   ]
  },
  {
   "cell_type": "markdown",
   "metadata": {},
   "source": [
    "Explain the concept of inheritance in Python."
   ]
  },
  {
   "cell_type": "markdown",
   "metadata": {},
   "source": [
    "Explain the Diamond problem using a small sketch."
   ]
  },
  {
   "cell_type": "markdown",
   "metadata": {},
   "source": [
    "Explain the difference between a class and an object (instance)."
   ]
  },
  {
   "cell_type": "markdown",
   "metadata": {},
   "source": [
    "What is the difference between a class method and general functions?"
   ]
  },
  {
   "cell_type": "markdown",
   "metadata": {},
   "source": [
    "What is an anonymous object (instance)?"
   ]
  },
  {
   "cell_type": "markdown",
   "metadata": {},
   "source": [
    "How can you define and use your own exceptions in Python?"
   ]
  },
  {
   "cell_type": "markdown",
   "metadata": {},
   "source": [
    "What role does the else clause play in error handling?"
   ]
  },
  {
   "cell_type": "markdown",
   "metadata": {},
   "source": [
    "Explain the importance of the with statement when working with files."
   ]
  },
  {
   "cell_type": "markdown",
   "metadata": {},
   "source": [
    "What advantages do generators offer over traditional lists?"
   ]
  },
  {
   "cell_type": "markdown",
   "metadata": {},
   "source": [
    "What happens when the yield statement is called in a generator function?"
   ]
  },
  {
   "cell_type": "markdown",
   "metadata": {},
   "source": [
    "What is a thread and how is it different from a process?"
   ]
  },
  {
   "cell_type": "markdown",
   "metadata": {},
   "source": [
    "How can you merge and synchronize multiple processes"
   ]
  },
  {
   "cell_type": "markdown",
   "metadata": {},
   "source": [
    "# 2. Task:"
   ]
  },
  {
   "cell_type": "markdown",
   "metadata": {},
   "source": [
    "**a)** Write a function `add_employee(...)` that creates and returns an employee as a dictionary. The employee should contain the keys `name`, `position`, `salary` and `entry_date`. \n",
    "\n",
    "Example call:\n",
    "\n",
    "```python\n",
    "employee = add_employee(\"John Doe\", \"Developer\", 50000, \"2023-01-15\")\n",
    "```\n",
    "\n",
    "Also output the value for the key `entry_date` with the `print()` function."
   ]
  },
  {
   "cell_type": "code",
   "execution_count": 40,
   "metadata": {},
   "outputs": [
    {
     "name": "stdout",
     "output_type": "stream",
     "text": [
      "Employee added\n"
     ]
    },
    {
     "data": {
      "text/plain": [
       "{'Jack', 'Jane', 'Jill', 'Joe', 'John', 'asdasfdsaf'}"
      ]
     },
     "execution_count": 40,
     "metadata": {},
     "output_type": "execute_result"
    }
   ],
   "source": [
    "def add_employee(set1, name):\n",
    "    set1 = set(set1)  # Convert set1 to a set\n",
    "    if name in set1:\n",
    "        print(\"Employee already exists\")\n",
    "    else:\n",
    "        set1.add(name)\n",
    "        print(\"Employee added\")\n",
    "    return set1\n",
    "\n",
    "\n",
    "\n",
    "\n",
    "\n",
    "name = input(\"Enter the name of the employee you want to find: \")\n",
    "set1 = {\"John\", \"Jane\", \"Joe\", \"Jill\", \"Jack\"}\n",
    "\n",
    "add_employee(set1,name)\n"
   ]
  },
  {
   "cell_type": "code",
   "execution_count": 7,
   "metadata": {},
   "outputs": [
    {
     "name": "stdout",
     "output_type": "stream",
     "text": [
      "{'name': 'John Doe', 'position': 'Developer', 'salary': 50000, 'entry_date': '2023-01-15'}\n"
     ]
    }
   ],
   "source": [
    "def add_employee(name, position, salary, entry_date):\n",
    "    empolyee = {\n",
    "        'name':name,\n",
    "        'position':position,\n",
    "        'salary':salary,\n",
    "        'entry_date':entry_date\n",
    "    }\n",
    "\n",
    "    return empolyee\n",
    "\n",
    "employee = add_employee(\"John Doe\", \"Developer\", 50000, \"2023-01-15\")\n",
    "print(employee)"
   ]
  },
  {
   "cell_type": "code",
   "execution_count": 18,
   "metadata": {},
   "outputs": [
    {
     "name": "stdout",
     "output_type": "stream",
     "text": [
      "2023-01-15\n"
     ]
    }
   ],
   "source": [
    "#2a)\n",
    "def add_employee(name, position, salary, entry_date):\n",
    "    employee = {\n",
    "           'name': name,\n",
    "           'position': position,\n",
    "           'salary': salary,\n",
    "           'entry_date': entry_date\n",
    "       }\n",
    "    return employee\n",
    "\n",
    "employee = add_employee(\"John Doe\", \"Developer\", 50000, \"2023-01-15\")\n",
    "\n",
    "print(employee['entry_date'])"
   ]
  },
  {
   "cell_type": "markdown",
   "metadata": {},
   "source": [
    "**b)** Given the following list:\n",
    "\n",
    "```python\n",
    "employee_list = [\n",
    "add_employee('John Doe', 'Developer', 50000, '2023-01-15'),\n",
    "add_employee('Jane Smith', 'Manager', 60000, '2019-05-20'),\n",
    "add_employee('Alice Johnson', 'Designer', 55000, '2021-07-30')\n",
    "]\n",
    "```\n",
    "\n",
    "Write a function `filter_employees(...)` that filters a list of employees by their start date and returns a list that only contains employees who started **after** January 1, 2024."
   ]
  },
  {
   "cell_type": "code",
   "execution_count": null,
   "metadata": {},
   "outputs": [],
   "source": [
    "def filter_employees()"
   ]
  },
  {
   "cell_type": "code",
   "execution_count": 12,
   "metadata": {},
   "outputs": [
    {
     "name": "stdout",
     "output_type": "stream",
     "text": [
      "[{'name': 'Alice Johnson', 'position': 'Designer', 'salary': 55000, 'entry_date': '2025-07-30'}]\n"
     ]
    }
   ],
   "source": [
    "employee_list = [\n",
    "add_employee('John Doe', 'Developer', 50000, '2023-01-15'),\n",
    "add_employee('Jane Smith', 'Manager', 60000, '2019-05-20'),\n",
    "add_employee('Alice Johnson', 'Designer', 55000, '2025-07-30')\n",
    "]\n",
    "\n",
    "def filter_employees(employee_list):\n",
    "    temp_list =[]\n",
    "    for loop in employee_list:\n",
    "        if loop['entry_date']>'2024-01-01':\n",
    "            temp_list.append(loop)\n",
    "    return temp_list\n",
    "\n",
    "# not required\n",
    "newies = filter_employees(employee_list)\n",
    "print(newies) # es gibt in der gegebenen Liste keinen \"Newie\""
   ]
  },
  {
   "cell_type": "code",
   "execution_count": 11,
   "metadata": {},
   "outputs": [
    {
     "name": "stdout",
     "output_type": "stream",
     "text": [
      "[]\n"
     ]
    }
   ],
   "source": [
    "# given\n",
    "employee_list = [\n",
    "       add_employee('John Doe', 'Developer', 50000, '2023-01-15'),\n",
    "       add_employee('Jane Smith', 'Manager', 60000, '2019-05-20'),\n",
    "       add_employee('Alice Johnson', 'Designer', 55000, '2021-07-30')\n",
    "   ]\n",
    "\n",
    "# 2b)\n",
    "def filter_employees(employee_list):\n",
    "    new_list = []\n",
    "    for employee in employee_list:\n",
    "        if employee['entry_date'] > '2024-01-01':\n",
    "            new_list.append(employee)\n",
    "\n",
    "    return new_list\n",
    "\n",
    "# not required\n",
    "newies = filter_employees(employee_list)\n",
    "print(newies) # es gibt in der gegebenen Liste keinen \"Newie\""
   ]
  },
  {
   "cell_type": "markdown",
   "metadata": {},
   "source": [
    "**c)** Write a function `raise_salary(...)` that accepts a list of employees and a percentage, and returns a new list - without changing the previous one - of employees with the increased salaries.\n",
    "\n",
    "Example call and output with the list from b):\n",
    "\n",
    "```python\n",
    "raised_salaries = raise_salary(employee_list, 10)\n",
    "print(raised_salaries)\n",
    "```\n",
    "\n",
    "```\n",
    ">>> [{'name': 'John Doe', 'position': 'Developer', 'salary': 55000.0, 'entry_date': '2023-01-15'}, \n",
    "{'name': 'Jane Smith', 'position': 'Manager', 'salary': 66000.0, 'entry_date': '2019-05-20'}, \n",
    "{'name': 'Alice Johnson', 'position': 'Designer', 'salary': 60500.0, 'entry_date': '2021-07-30'}]\n",
    "```"
   ]
  },
  {
   "cell_type": "code",
   "execution_count": 16,
   "metadata": {},
   "outputs": [
    {
     "name": "stdout",
     "output_type": "stream",
     "text": [
      "[{'name': 'John Doe', 'position': 'Developer', 'salary': 55000.00000000001, 'entry_date': '2023-01-15'}, {'name': 'Jane Smith', 'position': 'Manager', 'salary': 66000.0, 'entry_date': '2019-05-20'}, {'name': 'Alice Johnson', 'position': 'Designer', 'salary': 60500.00000000001, 'entry_date': '2025-07-30'}]\n"
     ]
    }
   ],
   "source": [
    "import copy\n",
    "def raise_salary(employee_list, percentage):\n",
    "    copylist = copy.deepcopy(employee_list)\n",
    "\n",
    "    for loop in copylist:\n",
    "        loop['salary'] *= (1+percentage/100)\n",
    "\n",
    "    return copylist\n",
    "\n",
    "\n",
    "raised_salaries = raise_salary(employee_list, 10)\n",
    "print(raised_salaries)"
   ]
  },
  {
   "cell_type": "code",
   "execution_count": 17,
   "metadata": {},
   "outputs": [
    {
     "name": "stdout",
     "output_type": "stream",
     "text": [
      "[{'name': 'John Doe', 'position': 'Developer', 'salary': 55000.00000000001, 'entry_date': '2023-01-15'}, {'name': 'Jane Smith', 'position': 'Manager', 'salary': 66000.0, 'entry_date': '2019-05-20'}, {'name': 'Alice Johnson', 'position': 'Designer', 'salary': 60500.00000000001, 'entry_date': '2025-07-30'}]\n",
      "[{'name': 'John Doe', 'position': 'Developer', 'salary': 50000, 'entry_date': '2023-01-15'}, {'name': 'Jane Smith', 'position': 'Manager', 'salary': 60000, 'entry_date': '2019-05-20'}, {'name': 'Alice Johnson', 'position': 'Designer', 'salary': 55000, 'entry_date': '2025-07-30'}]\n"
     ]
    }
   ],
   "source": [
    "#3c)\n",
    "import copy\n",
    "\n",
    "def raise_salary(employee_list, percent):\n",
    "    new_list = copy.deepcopy(employee_list)\n",
    "    for employee in new_list:\n",
    "        employee['salary'] *= (1 + percent/100)\n",
    "\n",
    "    return new_list\n",
    "\n",
    "# Example call\n",
    "raised_salaries = raise_salary(employee_list, 10)\n",
    "print(raised_salaries)\n",
    "print(employee_list)"
   ]
  },
  {
   "cell_type": "markdown",
   "metadata": {},
   "source": [
    "**d)** Now create a parent dictionary that contains the departments as the key and a list of the employees in each department as the value.\n",
    "\n",
    "Then write a function `get_employees_of(...)` that accepts a department and the department dictionary and returns a list of the employees who are employed in the passed department.\n",
    "\n",
    "Example call and output:\n",
    "\n",
    "```python\n",
    "developer = get_employees_of(\"Development\", department_dict)\n",
    "print(developer)\n",
    "```\n",
    "\n",
    "```\n",
    ">>> [{'name': 'John Doe', 'position': 'Developer', 'salary': 50000, 'entry_date': '2023-01-15'}]\n",
    "```"
   ]
  },
  {
   "cell_type": "code",
   "execution_count": 22,
   "metadata": {},
   "outputs": [
    {
     "name": "stdout",
     "output_type": "stream",
     "text": [
      "[{'name': 'John Doe', 'position': 'Developer', 'salary': 50000, 'entry_date': '2023-01-15'}]\n"
     ]
    }
   ],
   "source": [
    "departments = {'Development': employee_list[0],\n",
    "               'Design': employee_list[2],\n",
    "               'Management': employee_list[1]\n",
    "               }\n",
    "def get_employees_of(Depart, department_dict):\n",
    "    list = []\n",
    "    for loop in department_dict:\n",
    "        if loop == Depart:\n",
    "            list.append(department_dict[Depart])\n",
    "    return list\n",
    "        #return department_dict[Depart]\n",
    "developer = get_employees_of(\"Development\", departments)\n",
    "print(developer)"
   ]
  },
  {
   "cell_type": "code",
   "execution_count": 7,
   "metadata": {},
   "outputs": [
    {
     "data": {
      "text/plain": [
       "{'name': 'John Doe',\n",
       " 'position': 'Developer',\n",
       " 'salary': 55000.00000000001,\n",
       " 'entry_date': '2023-01-15'}"
      ]
     },
     "execution_count": 7,
     "metadata": {},
     "output_type": "execute_result"
    }
   ],
   "source": [
    "#2d)\n",
    "departments = {'Development': employee_list[0],\n",
    "               'Design': employee_list[2],\n",
    "               'Management': employee_list[1]}\n",
    "def get_employees_of(department, depart_dict):\n",
    "    return depart_dict[department]\n",
    "\n",
    "get_employees_of(\"Development\", departments)"
   ]
  },
  {
   "cell_type": "markdown",
   "metadata": {},
   "source": [
    "# 3. Task: \n",
    "\n",
    "The data protection department of your company has heard about your previous software and has lodged a complaint. The topic of salary is a sensitive issue and therefore this data must not be stored in the same data structure. For this reason, salaries should now be stored in a separate list `salary`. \n",
    "\n",
    "In the following, use this example list of salaries:\n",
    "\n",
    "```python\n",
    "salary = [50000, 60000, 55000, 70000, 45000]\n",
    "```"
   ]
  },
  {
   "cell_type": "markdown",
   "metadata": {},
   "source": [
    "**a)** First, write a generator function `report_salary(...)` that goes through the salary list and returns the salary data, consisting of the index and the value, one after the other.\n",
    "\n",
    "Example output for a call:\n",
    "\n",
    "`0: 50000 €`"
   ]
  },
  {
   "cell_type": "code",
   "execution_count": 27,
   "metadata": {},
   "outputs": [],
   "source": [
    "salary = [50000, 60000, 55000, 70000, 45000]\n",
    "\n",
    "#3a)\n",
    "def report_salary(salary_list):\n",
    "    for salary in salary_list:\n",
    "        yield f\"{salary_list.index(salary)}: {salary}\"\n",
    "\n",
    "# not required, but for control\n",
    "gen = report_salary(salary)"
   ]
  },
  {
   "cell_type": "code",
   "execution_count": 28,
   "metadata": {},
   "outputs": [
    {
     "data": {
      "text/plain": [
       "'0: 50000'"
      ]
     },
     "execution_count": 28,
     "metadata": {},
     "output_type": "execute_result"
    }
   ],
   "source": [
    "next(gen)"
   ]
  },
  {
   "cell_type": "markdown",
   "metadata": {},
   "source": [
    "The colleagues from the IT department also noticed something, for example the salary entries were not checked for accuracy, nor were the entries for creating a new employee profile.\n",
    "\n",
    "**b)** Write a function `validate(...)` that checks whether a passed salary is positive. If the salary is invalid, it should throw a meaningful exception with the error message `has to be positive`, but **not** be caught. If the salary is valid, `salary valid` should be output. In any case, `validation ended` should be output.\n",
    "\n",
    "Example:\n",
    "\n",
    "```python\n",
    "validate(50000)\n",
    "validate(-1000)\n",
    "```\n",
    "Output:\n",
    "\n",
    "```python\n",
    "validation ended\n",
    "salary valid\n",
    "validation ended\n",
    "---------------------------------------------------------------------------\n",
    "Exception Traceback (most recent call last)\n",
    "Cell In[2], line 2\n",
    "1 validate(50000)\n",
    "----> 2 validate(-1000)\n",
    ". .\n",
    ".\n",
    ".\n",
    "Exception: has to be positive\n",
    "```"
   ]
  },
  {
   "cell_type": "code",
   "execution_count": 29,
   "metadata": {},
   "outputs": [
    {
     "name": "stdout",
     "output_type": "stream",
     "text": [
      "salary valid\n",
      "validation ended\n",
      "validation ended\n",
      "validation ended\n"
     ]
    },
    {
     "ename": "ValueError",
     "evalue": "has to be positive",
     "output_type": "error",
     "traceback": [
      "\u001b[1;31m---------------------------------------------------------------------------\u001b[0m",
      "\u001b[1;31mValueError\u001b[0m                                Traceback (most recent call last)",
      "Cell \u001b[1;32mIn[29], line 14\u001b[0m\n\u001b[0;32m     12\u001b[0m \u001b[38;5;66;03m# not required\u001b[39;00m\n\u001b[0;32m     13\u001b[0m validate(\u001b[38;5;241m50000\u001b[39m)\n\u001b[1;32m---> 14\u001b[0m \u001b[43mvalidate\u001b[49m\u001b[43m(\u001b[49m\u001b[38;5;241;43m-\u001b[39;49m\u001b[38;5;241;43m1000\u001b[39;49m\u001b[43m)\u001b[49m\n",
      "Cell \u001b[1;32mIn[29], line 4\u001b[0m, in \u001b[0;36mvalidate\u001b[1;34m(salary)\u001b[0m\n\u001b[0;32m      2\u001b[0m \u001b[38;5;28;01mtry\u001b[39;00m:\n\u001b[0;32m      3\u001b[0m     \u001b[38;5;28;01mif\u001b[39;00m salary \u001b[38;5;241m<\u001b[39m\u001b[38;5;241m=\u001b[39m\u001b[38;5;241m0\u001b[39m:\n\u001b[1;32m----> 4\u001b[0m         \u001b[38;5;28;01mraise\u001b[39;00m \u001b[38;5;167;01mValueError\u001b[39;00m(\u001b[38;5;124m\"\u001b[39m\u001b[38;5;124mhas to be positive\u001b[39m\u001b[38;5;124m\"\u001b[39m)\n\u001b[0;32m      5\u001b[0m     \u001b[38;5;28;01melse\u001b[39;00m:\n\u001b[0;32m      6\u001b[0m         \u001b[38;5;28mprint\u001b[39m(\u001b[38;5;124m\"\u001b[39m\u001b[38;5;124msalary valid\u001b[39m\u001b[38;5;124m\"\u001b[39m)\n",
      "\u001b[1;31mValueError\u001b[0m: has to be positive"
     ]
    }
   ],
   "source": [
    "def validate(salary):\n",
    "    try:\n",
    "        if salary <=0:\n",
    "            raise ValueError(\"has to be positive\")\n",
    "        else:\n",
    "            print(\"salary valid\")\n",
    "            print(\"validation ended\")\n",
    "    finally:\n",
    "        print(\"validation ended\")\n",
    "\n",
    "\n",
    "# not required\n",
    "validate(50000)\n",
    "validate(-1000)"
   ]
  },
  {
   "cell_type": "code",
   "execution_count": 29,
   "metadata": {},
   "outputs": [
    {
     "name": "stdout",
     "output_type": "stream",
     "text": [
      "validation ended\n",
      "salary is valid\n",
      "validation ended\n"
     ]
    },
    {
     "ename": "ValueError",
     "evalue": "has to be positive",
     "output_type": "error",
     "traceback": [
      "\u001b[1;31m---------------------------------------------------------------------------\u001b[0m",
      "\u001b[1;31mValueError\u001b[0m                                Traceback (most recent call last)",
      "Cell \u001b[1;32mIn[29], line 13\u001b[0m\n\u001b[0;32m     11\u001b[0m \u001b[38;5;66;03m# nicht gefordert\u001b[39;00m\n\u001b[0;32m     12\u001b[0m validate(\u001b[38;5;241m50000\u001b[39m)\n\u001b[1;32m---> 13\u001b[0m validate(\u001b[38;5;241m-\u001b[39m\u001b[38;5;241m1000\u001b[39m)\n",
      "Cell \u001b[1;32mIn[29], line 5\u001b[0m, in \u001b[0;36mvalidate\u001b[1;34m(salary)\u001b[0m\n\u001b[0;32m      3\u001b[0m \u001b[38;5;28;01mtry\u001b[39;00m:\n\u001b[0;32m      4\u001b[0m     \u001b[38;5;28;01mif\u001b[39;00m salary \u001b[38;5;241m<\u001b[39m\u001b[38;5;241m=\u001b[39m \u001b[38;5;241m0\u001b[39m:\n\u001b[1;32m----> 5\u001b[0m         \u001b[38;5;28;01mraise\u001b[39;00m \u001b[38;5;167;01mValueError\u001b[39;00m(\u001b[38;5;124m\"\u001b[39m\u001b[38;5;124mhas to be positive\u001b[39m\u001b[38;5;124m\"\u001b[39m)\n\u001b[0;32m      6\u001b[0m \u001b[38;5;28;01mfinally\u001b[39;00m:\n\u001b[0;32m      7\u001b[0m     \u001b[38;5;28mprint\u001b[39m(\u001b[38;5;124m\"\u001b[39m\u001b[38;5;124mvalidation ended\u001b[39m\u001b[38;5;124m\"\u001b[39m)\n",
      "\u001b[1;31mValueError\u001b[0m: has to be positive"
     ]
    }
   ],
   "source": [
    "#3b)\n",
    "def validate(salary):\n",
    "    try:\n",
    "        if salary <= 0:\n",
    "            raise ValueError(\"has to be positive\")\n",
    "    finally:\n",
    "        print(\"validation ended\")\n",
    "\n",
    "    print(\"salary is valid\")\n",
    "\n",
    "# not required\n",
    "validate(50000)\n",
    "validate(-1000)"
   ]
  },
  {
   "cell_type": "markdown",
   "metadata": {},
   "source": [
    "**c)** Write an improved function `add_employee_V2(...)` that creates and returns an employee as a dictionary. The employee should only contain the keys `name`, `position`, and `entry_date` (entry date). \n",
    "\n",
    "The function should test pre- and post-conditions and generate an exception if they are not met:\n",
    "\n",
    "- Pre-conditions: The key `name` must not be empty.\n",
    "\n",
    "- Post-condition: The created employee must not yet exist.\n",
    "\n",
    "Example:\n",
    "\n",
    "```python\n",
    "employee_list_2 = []\n",
    "employee_list_2.append(add_employee_V2('John Doe', 'Developer', '2023-01-15', employee_list_2))\n",
    "employee_list_2.append(add_employee_V2('Jane Smith', 'Manager', '2019-05-20', employee_list_2))\n",
    "employee_list_2.append(add_employee_V2('Alice Johnson', 'Designer', '2021-07-30', employee_list_2))\n",
    "\n",
    "print(employee_list_2)\n",
    "\n",
    "employee_list_2.append(add_employee_V2('John Doe', 'Developer', '2023-01-15', employee_list_2))\n",
    "```\n",
    "Output:\n",
    "```python\n",
    "[{'name': 'John Doe', 'position': 'Developer', 'startdate': '2023-01-15'}, \n",
    "{'name': 'Jane Smith', 'position': 'Manager', 'startdate': '2019-05-20'}, \n",
    "{'name': 'Alice Johnson', 'position': 'Designer', 'startdate': '2021-07-30'}]\n",
    "\n",
    "---------------------------------------------------------------------------\n",
    "AssertionError Traceback (most recent call last)\n",
    "Cell In[85], line 18\n",
    "14 employee_list_2.append(add_employee_V2('Alice Johnson', 'Designer', '2021-07-30', employee_list_2))\n",
    "16 print(employee_list_2)\n",
    "---> 18 employee_list_2.append(add_employee_V2('John Doe', 'Developer', '2023-01-15', employee_list_2))\n",
    "...\n",
    "```"
   ]
  },
  {
   "cell_type": "code",
   "execution_count": 28,
   "metadata": {},
   "outputs": [
    {
     "name": "stdout",
     "output_type": "stream",
     "text": [
      "[{'name': 'John Doe', 'position': 'Developer', 'entry_date': '2023-01-15'}, {'name': 'Jane Smith', 'position': 'Manager', 'entry_date': '2019-05-20'}, {'name': 'Alice Johnson', 'position': 'Designer', 'entry_date': '2021-07-30'}]\n"
     ]
    },
    {
     "ename": "AssertionError",
     "evalue": "employee already exists",
     "output_type": "error",
     "traceback": [
      "\u001b[1;31m---------------------------------------------------------------------------\u001b[0m",
      "\u001b[1;31mAssertionError\u001b[0m                            Traceback (most recent call last)",
      "Cell \u001b[1;32mIn[28], line 22\u001b[0m\n\u001b[0;32m     18\u001b[0m employee_list_2\u001b[38;5;241m.\u001b[39mappend(add_employee_V2(\u001b[38;5;124m'\u001b[39m\u001b[38;5;124mAlice Johnson\u001b[39m\u001b[38;5;124m'\u001b[39m, \u001b[38;5;124m'\u001b[39m\u001b[38;5;124mDesigner\u001b[39m\u001b[38;5;124m'\u001b[39m, \u001b[38;5;124m'\u001b[39m\u001b[38;5;124m2021-07-30\u001b[39m\u001b[38;5;124m'\u001b[39m, employee_list_2))\n\u001b[0;32m     20\u001b[0m \u001b[38;5;28mprint\u001b[39m(employee_list_2)\n\u001b[1;32m---> 22\u001b[0m employee_list_2\u001b[38;5;241m.\u001b[39mappend(\u001b[43madd_employee_V2\u001b[49m\u001b[43m(\u001b[49m\u001b[38;5;124;43m'\u001b[39;49m\u001b[38;5;124;43mJohn Doe\u001b[39;49m\u001b[38;5;124;43m'\u001b[39;49m\u001b[43m,\u001b[49m\u001b[43m \u001b[49m\u001b[38;5;124;43m'\u001b[39;49m\u001b[38;5;124;43mDeveloper\u001b[39;49m\u001b[38;5;124;43m'\u001b[39;49m\u001b[43m,\u001b[49m\u001b[43m \u001b[49m\u001b[38;5;124;43m'\u001b[39;49m\u001b[38;5;124;43m2023-01-15\u001b[39;49m\u001b[38;5;124;43m'\u001b[39;49m\u001b[43m,\u001b[49m\u001b[43m \u001b[49m\u001b[43memployee_list_2\u001b[49m\u001b[43m)\u001b[49m)\n",
      "Cell \u001b[1;32mIn[28], line 8\u001b[0m, in \u001b[0;36madd_employee_V2\u001b[1;34m(name, position, entry_date, employee_list_2)\u001b[0m\n\u001b[0;32m      3\u001b[0m \u001b[38;5;28;01massert\u001b[39;00m name, \u001b[38;5;124m\"\u001b[39m\u001b[38;5;124mhas no name \u001b[39m\u001b[38;5;124m\"\u001b[39m\n\u001b[0;32m      4\u001b[0m dicn \u001b[38;5;241m=\u001b[39m {\u001b[38;5;124m'\u001b[39m\u001b[38;5;124mname\u001b[39m\u001b[38;5;124m'\u001b[39m:name,\n\u001b[0;32m      5\u001b[0m         \u001b[38;5;124m'\u001b[39m\u001b[38;5;124mposition\u001b[39m\u001b[38;5;124m'\u001b[39m:position, \n\u001b[0;32m      6\u001b[0m         \u001b[38;5;124m'\u001b[39m\u001b[38;5;124mentry_date\u001b[39m\u001b[38;5;124m'\u001b[39m:entry_date\n\u001b[0;32m      7\u001b[0m         }\n\u001b[1;32m----> 8\u001b[0m \u001b[38;5;28;01massert\u001b[39;00m dicn \u001b[38;5;129;01mnot\u001b[39;00m \u001b[38;5;129;01min\u001b[39;00m employee_list_2, \u001b[38;5;124m\"\u001b[39m\u001b[38;5;124memployee already exists\u001b[39m\u001b[38;5;124m\"\u001b[39m\n\u001b[0;32m     10\u001b[0m \u001b[38;5;28;01mreturn\u001b[39;00m dicn\n",
      "\u001b[1;31mAssertionError\u001b[0m: employee already exists"
     ]
    }
   ],
   "source": [
    "\n",
    "def add_employee_V2(name, position, entry_date, employee_list_2):\n",
    "    \n",
    "    assert name, \"has no name \"\n",
    "    dicn = {'name':name,\n",
    "            'position':position, \n",
    "            'entry_date':entry_date\n",
    "            }\n",
    "    assert dicn not in employee_list_2, \"employee already exists\"\n",
    "    \n",
    "    return dicn    \n",
    "\n",
    "    \n",
    "\n",
    "# Example from the task\n",
    "employee_list_2 = []\n",
    "employee_list_2.append(add_employee_V2('John Doe', 'Developer', '2023-01-15', employee_list_2))\n",
    "employee_list_2.append(add_employee_V2('Jane Smith', 'Manager',  '2019-05-20', employee_list_2))\n",
    "employee_list_2.append(add_employee_V2('Alice Johnson', 'Designer', '2021-07-30', employee_list_2))\n",
    "\n",
    "print(employee_list_2)\n",
    "\n",
    "employee_list_2.append(add_employee_V2('John Doe', 'Developer', '2023-01-15', employee_list_2))"
   ]
  },
  {
   "cell_type": "code",
   "execution_count": null,
   "metadata": {},
   "outputs": [
    {
     "name": "stdout",
     "output_type": "stream",
     "text": [
      "[{'name': 'Alice Johnson', 'position': 'Designer', 'salary': 55000, 'entry_date': '2024-07-30'}]\n"
     ]
    }
   ],
   "source": [
    "# given\n",
    "employee_list = [\n",
    "       add_employee('John Doe', 'Developer', 50000, '2023-01-15'),\n",
    "       add_employee('Jane Smith', 'Manager', 60000, '2019-05-20'),\n",
    "       add_employee('Alice Johnson', 'Designer', 55000, '2024-07-30')\n",
    "   ]\n",
    "\n",
    "# 2b)\n",
    "def filter_employees(employee_list):\n",
    "    new_list = []\n",
    "    for employee in employee_list:\n",
    "        if employee['entry_date'] > '2024-01-01':\n",
    "            new_list.append(employee)\n",
    "\n",
    "    return new_list\n",
    "\n",
    "# not required\n",
    "newies = filter_employees(employee_list)\n",
    "print(newies) # es gibt in der gegebenen Liste keinen \"Newie\""
   ]
  },
  {
   "cell_type": "code",
   "execution_count": 33,
   "metadata": {},
   "outputs": [
    {
     "name": "stdout",
     "output_type": "stream",
     "text": [
      "[{'name': 'John Doe', 'position': 'Developer', 'entry_date': '2023-01-15'}, {'name': 'Jane Smith', 'position': 'Manager', 'entry_date': '2019-05-20'}, {'name': 'Alice Johnson', 'position': 'Designer', 'entry_date': '2021-07-30'}]\n"
     ]
    },
    {
     "ename": "AssertionError",
     "evalue": "employee already exists",
     "output_type": "error",
     "traceback": [
      "\u001b[1;31m---------------------------------------------------------------------------\u001b[0m",
      "\u001b[1;31mAssertionError\u001b[0m                            Traceback (most recent call last)",
      "Cell \u001b[1;32mIn[33], line 18\u001b[0m\n\u001b[0;32m     14\u001b[0m employee_list_2\u001b[38;5;241m.\u001b[39mappend(add_employee_V2(\u001b[38;5;124m'\u001b[39m\u001b[38;5;124mAlice Johnson\u001b[39m\u001b[38;5;124m'\u001b[39m, \u001b[38;5;124m'\u001b[39m\u001b[38;5;124mDesigner\u001b[39m\u001b[38;5;124m'\u001b[39m, \u001b[38;5;124m'\u001b[39m\u001b[38;5;124m2021-07-30\u001b[39m\u001b[38;5;124m'\u001b[39m, employee_list_2))\n\u001b[0;32m     16\u001b[0m \u001b[38;5;28mprint\u001b[39m(employee_list_2)\n\u001b[1;32m---> 18\u001b[0m employee_list_2\u001b[38;5;241m.\u001b[39mappend(add_employee_V2(\u001b[38;5;124m'\u001b[39m\u001b[38;5;124mJohn Doe\u001b[39m\u001b[38;5;124m'\u001b[39m, \u001b[38;5;124m'\u001b[39m\u001b[38;5;124mDeveloper\u001b[39m\u001b[38;5;124m'\u001b[39m, \u001b[38;5;124m'\u001b[39m\u001b[38;5;124m2023-01-15\u001b[39m\u001b[38;5;124m'\u001b[39m, employee_list_2))\n",
      "Cell \u001b[1;32mIn[33], line 7\u001b[0m, in \u001b[0;36madd_employee_V2\u001b[1;34m(name, position, entry_date, employee_list)\u001b[0m\n\u001b[0;32m      3\u001b[0m \u001b[38;5;28;01massert\u001b[39;00m name, \u001b[38;5;124m\"\u001b[39m\u001b[38;5;124mname is empty\u001b[39m\u001b[38;5;124m\"\u001b[39m\n\u001b[0;32m      4\u001b[0m employee \u001b[38;5;241m=\u001b[39m {\u001b[38;5;124m'\u001b[39m\u001b[38;5;124mname\u001b[39m\u001b[38;5;124m'\u001b[39m : name,\n\u001b[0;32m      5\u001b[0m             \u001b[38;5;124m'\u001b[39m\u001b[38;5;124mposition\u001b[39m\u001b[38;5;124m'\u001b[39m : position,\n\u001b[0;32m      6\u001b[0m             \u001b[38;5;124m'\u001b[39m\u001b[38;5;124mentry_date\u001b[39m\u001b[38;5;124m'\u001b[39m : entry_date}\n\u001b[1;32m----> 7\u001b[0m \u001b[38;5;28;01massert\u001b[39;00m employee \u001b[38;5;129;01mnot\u001b[39;00m \u001b[38;5;129;01min\u001b[39;00m employee_list, \u001b[38;5;124m\"\u001b[39m\u001b[38;5;124memployee already exists\u001b[39m\u001b[38;5;124m\"\u001b[39m\n\u001b[0;32m      8\u001b[0m \u001b[38;5;28;01mreturn\u001b[39;00m employee\n",
      "\u001b[1;31mAssertionError\u001b[0m: employee already exists"
     ]
    }
   ],
   "source": [
    "#3c)\n",
    "def add_employee_V2(name, position, entry_date, employee_list):\n",
    "    assert name, \"name is empty\"\n",
    "    employee = {'name' : name,\n",
    "                'position' : position,\n",
    "                'entry_date' : entry_date}\n",
    "    assert employee not in employee_list, \"employee already exists\"\n",
    "    return employee\n",
    "\n",
    "\n",
    "# Example from the task\n",
    "employee_list_2 = []\n",
    "employee_list_2.append(add_employee_V2('John Doe', 'Developer', '2023-01-15', employee_list_2))\n",
    "employee_list_2.append(add_employee_V2('Jane Smith', 'Manager',  '2019-05-20', employee_list_2))\n",
    "employee_list_2.append(add_employee_V2('Alice Johnson', 'Designer', '2021-07-30', employee_list_2))\n",
    "\n",
    "print(employee_list_2)\n",
    "\n",
    "employee_list_2.append(add_employee_V2('John Doe', 'Developer', '2023-01-15', employee_list_2))"
   ]
  },
  {
   "cell_type": "markdown",
   "metadata": {},
   "source": [
    "# 4. Task:\n",
    "\n",
    "You have a new colleague named Gregoor from the Netherlands. He keeps saying:\n",
    "\n",
    "> \"alles is een object\" (German: \"Everything is an object\")\n",
    "\n",
    "and keeps pointing his finger at you and your software. You're starting to get really annoyed..."
   ]
  },
  {
   "cell_type": "markdown",
   "metadata": {},
   "source": [
    "**a)** To finally stop Greegor, go back to your software and implement a class `Employee` with the existing attributes `name`, `position`, `salary` and `entry_date` and the methods `get_name()` and `is_new()`. An employee whose entry date is in the current year is considered \"new\". The attribute `salary` should be strictly private, i.e. access via e.g. `employee.salary` is not possible (so that the data protection department doesn't complain).\n",
    "\n",
    "![employee.png](attachment:employee.png)\n",
    "\n",
    "Example call:\n",
    "\n",
    "```python\n",
    "employee = Employee('John Doe', 'Developer', 50000, '2023-01-15')\n",
    "\n",
    "print(employee.get_name())\n",
    "\n",
    "print(employee.is_new())\n",
    "```\n",
    "\n",
    "Output:\n",
    "\n",
    "```python\n",
    "John Doe\n",
    "False\n",
    "```"
   ]
  },
  {
   "cell_type": "code",
   "execution_count": 34,
   "metadata": {},
   "outputs": [
    {
     "name": "stdout",
     "output_type": "stream",
     "text": [
      "John Doe\n",
      "False\n"
     ]
    }
   ],
   "source": [
    "#4a)\n",
    "class Employee:\n",
    "    def __init__(self, name, position, salary, entry_date):\n",
    "        self.name = name\n",
    "        self.position = position\n",
    "        self.__salary = salary\n",
    "        self.entry_date = entry_date\n",
    "\n",
    "    def get_name(self):\n",
    "        return self.name\n",
    "    \n",
    "    def is_new(self):\n",
    "        return self.entry_date > \"2024-01-01\"\n",
    "\n",
    "#not required, due to task\n",
    "employee = Employee('John Doe', 'Entwickler', 50000, '2023-01-15')\n",
    "print(employee.get_name())\n",
    "print(employee.is_new())\n",
    "    \n",
    "    "
   ]
  },
  {
   "cell_type": "markdown",
   "metadata": {},
   "source": [
    "**b)** Give a possibility how the salary attribute could still be accessed from outside after the implementation of *a)*."
   ]
  },
  {
   "cell_type": "code",
   "execution_count": 38,
   "metadata": {},
   "outputs": [
    {
     "name": "stdout",
     "output_type": "stream",
     "text": [
      "100000\n"
     ]
    }
   ],
   "source": [
    "#4b)\n",
    "#print(employee.salary) # doesn't work\n",
    "#print(employee.__salary) # doesn't work\n",
    "employee._Employee__salary = 100000     # fatal!\n",
    "print(employee._Employee__salary)"
   ]
  },
  {
   "cell_type": "markdown",
   "metadata": {},
   "source": [
    "**c)** Therefore, add a property attribute `salary` to your class `Employee` and everything that is necessary for it so that the actual attribute can only be read but not written to. \n",
    "\n",
    "Example call: \n",
    "\n",
    "```python\n",
    "print(employee.salary) # read\n",
    "employee.salary = 100000 # write\n",
    "```\n",
    "\n",
    "Output:\n",
    "\n",
    "```python\n",
    "50000\n",
    "---------------------------------------------------------------------------\n",
    "AttributeError Traceback (most recent call last)\n",
    "Cell In[111], line 31\n",
    "30 print(employee.salary)\n",
    "---> 31 employee.salary = 100000\n",
    "\n",
    "AttributeError: property 'salary' of 'Employee' object has no setter\n",
    "```"
   ]
  },
  {
   "cell_type": "code",
   "execution_count": 40,
   "metadata": {},
   "outputs": [
    {
     "name": "stdout",
     "output_type": "stream",
     "text": [
      "50000\n"
     ]
    },
    {
     "ename": "AttributeError",
     "evalue": "property 'salary' of 'Employee' object has no setter",
     "output_type": "error",
     "traceback": [
      "\u001b[1;31m---------------------------------------------------------------------------\u001b[0m",
      "\u001b[1;31mAttributeError\u001b[0m                            Traceback (most recent call last)",
      "Cell \u001b[1;32mIn[40], line 23\u001b[0m\n\u001b[0;32m     21\u001b[0m employee \u001b[38;5;241m=\u001b[39m Employee(\u001b[38;5;124m'\u001b[39m\u001b[38;5;124mJohn Doe\u001b[39m\u001b[38;5;124m'\u001b[39m, \u001b[38;5;124m'\u001b[39m\u001b[38;5;124mEntwickler\u001b[39m\u001b[38;5;124m'\u001b[39m, \u001b[38;5;241m50000\u001b[39m, \u001b[38;5;124m'\u001b[39m\u001b[38;5;124m2023-01-15\u001b[39m\u001b[38;5;124m'\u001b[39m)\n\u001b[0;32m     22\u001b[0m \u001b[38;5;28mprint\u001b[39m(employee\u001b[38;5;241m.\u001b[39msalary)\n\u001b[1;32m---> 23\u001b[0m employee\u001b[38;5;241m.\u001b[39msalary \u001b[38;5;241m=\u001b[39m \u001b[38;5;241m100000\u001b[39m\n",
      "\u001b[1;31mAttributeError\u001b[0m: property 'salary' of 'Employee' object has no setter"
     ]
    }
   ],
   "source": [
    "# 4c)\n",
    "class Employee:\n",
    "    def __init__(self, name, position, salary, entry_date):\n",
    "        self.name = name\n",
    "        self.position = position\n",
    "        self.__salary = salary\n",
    "        self.entry_date = entry_date\n",
    "\n",
    "    def get_name(self):\n",
    "        return self.name\n",
    "    \n",
    "    def is_new(self):\n",
    "        return self.entry_date > \"2024-01-01\"\n",
    "    \n",
    "    def get_salary(self):\n",
    "        return self.__salary\n",
    "    \n",
    "    salary = property(fget=get_salary)\n",
    "\n",
    "# from the task\n",
    "employee = Employee('John Doe', 'Entwickler', 50000, '2023-01-15')\n",
    "print(employee.salary)\n",
    "employee.salary = 100000"
   ]
  },
  {
   "attachments": {
    "manager.png": {
     "image/png": "[encoded data removed]"
    }
   },
   "cell_type": "markdown",
   "metadata": {},
   "source": [
    "**d)** You have been promoted to manager thanks to your excellent work, congratulations! To make this clear in your software, create a new class `Manager` that inherits from the class `Employee`. The class `Manager` has the new attribute `team` and a new method `get_team()`.\n",
    "\n",
    "![manager.png](attachment:manager.png)\n",
    "\n",
    "Example call:\n",
    "\n",
    "```python\n",
    "manager = Manager('Jane Smith', 'Manager', 120000, '2019-05-20', ['John Doe', 'Alice Johnson'])\n",
    "print(manager.get_name())\n",
    "print(manager.get_team())\n",
    "```\n",
    "\n",
    "Output:\n",
    "\n",
    "```python\n",
    "Jane Smith\n",
    "['John Doe', 'Alice Johnson']\n",
    "```"
   ]
  },
  {
   "cell_type": "code",
   "execution_count": 41,
   "metadata": {},
   "outputs": [
    {
     "name": "stdout",
     "output_type": "stream",
     "text": [
      "Jane Smith\n",
      "['John Doe', 'Alice Johnson']\n"
     ]
    }
   ],
   "source": [
    "#4d)\n",
    "class Manager(Employee):\n",
    "    def __init__(self, name, position, salary, entry_date, team):\n",
    "        super().__init__(name, position, salary, entry_date)\n",
    "        self.team = team\n",
    "\n",
    "    def get_team(self):\n",
    "        return self.team\n",
    "\n",
    "manager = Manager('Jane Smith', 'Manager', 120000, '2019-05-20', ['John Doe', 'Alice Johnson'])\n",
    "print(manager.get_name())\n",
    "print(manager.get_team())"
   ]
  },
  {
   "cell_type": "markdown",
   "metadata": {},
   "source": [
    "# 5. Task:\n",
    "\n",
    "As a manager, you now have to deal more with your company's HR department. One of the issues is the (un)popular topic of \"salary\". Unfortunately, the HR department has not yet received an update for the software's new object-oriented class structure. Therefore, employees are managed as tuples and salaries in separate lists (as in task 3)."
   ]
  },
  {
   "cell_type": "markdown",
   "metadata": {},
   "source": [
    "**a)** Your first task is to integrate large amounts of employee data into the outdated system. So you come up with the idea of ​​parallelizing the whole thing. Write a working code to read employees from individual lists in parallel and add them to a common list. \n",
    "\n",
    "For this task, imagine two lists with the employees as tuples, `data1` and `data2`, which are added to a total list via separate threads. Since there are actually many more lists, please use the `threading` module and not a simple `all_data.append(data1)` and `all_data.append(data2)`.\n",
    "\n",
    "The problem of synchronization will be neglected at this point.\n",
    "\n",
    "Your example lists might look like this:\n",
    "\n",
    "```python\n",
    "data1 = [('John Doe', 'Developer', '2023-01-15'), ('Alice Johnson', 'Designer', '2021-07-30')]\n",
    "data2 = [('Jane Smith', 'Manager', '2019-05-20')]\n",
    "```"
   ]
  },
  {
   "cell_type": "code",
   "execution_count": 10,
   "metadata": {},
   "outputs": [
    {
     "name": "stdout",
     "output_type": "stream",
     "text": [
      "('John Doe', 'Entwickler', '2023-01-15')\n",
      "('Alice Johnson', 'Designer', '2021-07-30')\n",
      "('Jane Smith', 'Manager', '2019-05-20')\n",
      "[('John Doe', 'Entwickler', '2023-01-15'), ('Alice Johnson', 'Designer', '2021-07-30'), ('Jane Smith', 'Manager', '2019-05-20')]\n"
     ]
    }
   ],
   "source": [
    "#5a)\n",
    "# 1. Option\n",
    "import threading\n",
    "\n",
    "all_data = []\n",
    "\n",
    "def add_employee_process(employee_list):\n",
    "       for daten in employee_list:\n",
    "           print(daten)\n",
    "           all_data.append(daten)\n",
    "\n",
    "daten1 = [('John Doe', 'Entwickler', '2023-01-15'), ('Alice Johnson', 'Designer', '2021-07-30')]\n",
    "daten2 = [('Jane Smith', 'Manager', '2019-05-20')]\n",
    "\n",
    "t1 = threading.Thread(target=add_employee_process, args=(daten1,))\n",
    "t2 = threading.Thread(target=add_employee_process, args=(daten2,))\n",
    "\n",
    "t1.start()\n",
    "t2.start()\n",
    "\n",
    "t1.join()\n",
    "t2.join()\n",
    "\n",
    "print(all_data)"
   ]
  },
  {
   "cell_type": "code",
   "execution_count": 43,
   "metadata": {},
   "outputs": [
    {
     "name": "stdout",
     "output_type": "stream",
     "text": [
      "('John Doe', 'Entwickler', '2023-01-15')\n",
      "('Alice Johnson', 'Designer', '2021-07-30')\n",
      "('Jane Smith', 'Manager', '2019-05-20')\n",
      "[('John Doe', 'Entwickler', '2023-01-15'), ('Alice Johnson', 'Designer', '2021-07-30'), ('Jane Smith', 'Manager', '2019-05-20')]\n"
     ]
    }
   ],
   "source": [
    "#5a)\n",
    "# 2. Option\n",
    "import threading\n",
    "\n",
    "def add_employee_process(overall_list , employee_list):\n",
    "       for daten in employee_list:\n",
    "           print(daten)\n",
    "           overall_list.append(daten)\n",
    "\n",
    "\n",
    "all_data = []\n",
    "\n",
    "daten1 = [('John Doe', 'Entwickler', '2023-01-15'), ('Alice Johnson', 'Designer', '2021-07-30')]\n",
    "daten2 = [('Jane Smith', 'Manager', '2019-05-20')]\n",
    "\n",
    "t1 = threading.Thread(target=add_employee_process, args=(all_data, daten1))\n",
    "t2 = threading.Thread(target=add_employee_process, args=(all_data, daten2))\n",
    "\n",
    "t1.start()\n",
    "t2.start()\n",
    "\n",
    "t1.join()\n",
    "t2.join()\n",
    "\n",
    "print(all_data)"
   ]
  },
  {
   "cell_type": "markdown",
   "metadata": {},
   "source": [
    "**b)** For the salary analysis, you have converted the salary lists into Numpy arrays:\n",
    "\n",
    "```python\n",
    "import numpy as np\n",
    "\n",
    "salaries = np.array([50000, 60000, 55000, 70000, 45000])\n",
    "mean_salary = np.mean(salaries)\n",
    "std_deviation = np.std(salaries)\n",
    "sum_salary = np.sum(salaries)\n",
    "```\n",
    "\n",
    "Write a code that now filters the salaries that are more than 50000 and then outputs them to the console.\n",
    "\n",
    "Output for example:\n",
    "\n",
    "```python\n",
    "[60000 55000 70000]\n",
    "```"
   ]
  },
  {
   "cell_type": "code",
   "execution_count": 3,
   "metadata": {},
   "outputs": [
    {
     "name": "stdout",
     "output_type": "stream",
     "text": [
      "[60000 55000 70000]\n"
     ]
    }
   ],
   "source": [
    "# 5b)\n",
    "# given\n",
    "import numpy as np\n",
    "\n",
    "salaries = np.array([50000, 60000, 55000, 70000, 45000])\n",
    "mean_salary = np.mean(salaries)\n",
    "std_deviation = np.std(salaries)\n",
    "sum_salary = np.sum(salaries)\n",
    "\n",
    "# 5b)\n",
    "filtered = salaries[salaries > 50000]\n",
    "\n",
    "# just for checking\n",
    "print(filtered)"
   ]
  },
  {
   "cell_type": "code",
   "execution_count": 6,
   "metadata": {},
   "outputs": [
    {
     "name": "stdout",
     "output_type": "stream",
     "text": [
      "[60000 55000 70000]\n"
     ]
    }
   ],
   "source": [
    "# 5b) Alternatively with filter\n",
    "# given\n",
    "import numpy as np\n",
    "\n",
    "salaries = np.array([50000, 60000, 55000, 70000, 45000])\n",
    "mean_salary = np.mean(salaries)\n",
    "std_deviation = np.std(salaries)\n",
    "sum_salary = np.sum(salaries)\n",
    "\n",
    "# 5b)\n",
    "# filtered is then a list\n",
    "filtered_list = list(filter(lambda s: s > 50000, salaries))\n",
    "filtered = np.array(filtered_list)\n",
    "\n",
    "# just for checking\n",
    "print(filtered)"
   ]
  },
  {
   "attachments": {
    "salaries.png": {
     "image/png": "[encoded data removed]"
    }
   },
   "cell_type": "markdown",
   "metadata": {},
   "source": [
    "**c)** Finally, you have to present your results to the board, but they have no idea about programming and numpy arrays, so you create a `tkinter` interface that allows entering a salary and showing if it is above or below average. The GUI could look like this:\n",
    "\n",
    "![salaries.png](attachment:salaries.png)"
   ]
  },
  {
   "cell_type": "code",
   "execution_count": 32,
   "metadata": {},
   "outputs": [],
   "source": [
    "#5c)\n",
    "# 1. Possibility via class definition\n",
    "from tkinter import *\n",
    "\n",
    "class GUI:\n",
    "    def __init__(self, mean):\n",
    "        self.root = Tk()\n",
    "        self.output = StringVar()\n",
    "        self.entry = Entry(master = self.root)\n",
    "        self.entry.pack()\n",
    "\n",
    "        self.button = Button(master = self.root, \n",
    "                             command = self.check,\n",
    "                             text = \"Check\")\n",
    "        self.button.pack()\n",
    "\n",
    "        self.label = Label(master =self.root,\n",
    "                           textvariable= self.output)\n",
    "        self.label.pack()\n",
    "        self.mean = mean\n",
    "        self.root.mainloop()\n",
    "\n",
    "    def check(self):\n",
    "        if int(self.entry.get()) > self.mean:\n",
    "            self.output.set(\"salary is above average\")\n",
    "        else:\n",
    "            self.output.set(\"salary is below average\")\n",
    "\n",
    "\n",
    "\n",
    "mean_salary = 50\n",
    "gui = GUI(mean_salary)\n",
    "\n",
    "\n",
    "\n",
    "\n"
   ]
  },
  {
   "cell_type": "code",
   "execution_count": null,
   "metadata": {},
   "outputs": [],
   "source": [
    "\n",
    "\n",
    "from tkinter import *\n",
    "\n",
    "class GUI:\n",
    "    def __init__(self,mean):\n",
    "        self.root = Tk()\n",
    "        self.output = StringVar()\n",
    "        self.entry = Entry (master = self.root)\n",
    "        self.entry.pack()\n",
    "\n",
    "        self.button = Button(master =self.root, command = self.check, text = \"Check\")\n",
    "        self.button.pack()\n",
    "\n",
    "        self.label = Label(master=self.root, textvariable=self.output)\n",
    "        self.label.pack()\n",
    "        self.mean=mean\n",
    "        self.root.mainloop()\n",
    "\n",
    "\n",
    "    def check(self):\n",
    "        if int(self.entry.get()>self.mean):\n",
    "            self.output.set(\"salary is above average\")\n",
    "        else:\n",
    "            self.output.set(\"salary is below averag\")\n",
    "\n",
    "\n",
    "    gui = GUI(mean_salary)"
   ]
  },
  {
   "cell_type": "code",
   "execution_count": 52,
   "metadata": {},
   "outputs": [],
   "source": [
    "# 2. Option\n",
    "import tkinter as tk\n",
    "\n",
    "def pruefe_gehalt():\n",
    "    gehalt = int(entry.get())\n",
    "    if gehalt > mean_salary:\n",
    "        result_label.config(text=\"salary is above average\")\n",
    "    else:\n",
    "        result_label.config(text=\"salary is below average\")\n",
    "\n",
    "root = tk.Tk()\n",
    "\n",
    "entry = tk.Entry(root)\n",
    "entry.pack()\n",
    "\n",
    "check_button = tk.Button(root, text=\"Check\", command=pruefe_gehalt)\n",
    "check_button.pack()\n",
    "\n",
    "result_label = tk.Label(root, text=\"\")\n",
    "result_label.pack()\n",
    "\n",
    "root.mainloop()"
   ]
  },
  {
   "cell_type": "code",
   "execution_count": null,
   "metadata": {},
   "outputs": [],
   "source": [
    "#Lists \n",
    "#1a)\n",
    "list = "
   ]
  }
 ],
 "metadata": {
  "kernelspec": {
   "display_name": "Python 3 (ipykernel)",
   "language": "python",
   "name": "python3"
  },
  "language_info": {
   "codemirror_mode": {
    "name": "ipython",
    "version": 3
   },
   "file_extension": ".py",
   "mimetype": "text/x-python",
   "name": "python",
   "nbconvert_exporter": "python",
   "pygments_lexer": "ipython3",
   "version": "3.11.3"
  }
 },
 "nbformat": 4,
 "nbformat_minor": 2
}
